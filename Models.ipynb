{
 "cells": [
  {
   "cell_type": "markdown",
   "metadata": {},
   "source": [
    "#### Libraries and loading"
   ]
  },
  {
   "cell_type": "raw",
   "metadata": {
    "ExecuteTime": {
     "end_time": "2021-09-11T20:50:31.847831Z",
     "start_time": "2021-09-11T20:50:31.834726Z"
    }
   },
   "source": [
    "#%%javascript\n",
    "#utils.load_extension(\"execute_time/ExecuteTime\")\n",
    "#utils.load_extension(\"collapsible_headings/main\")"
   ]
  },
  {
   "cell_type": "code",
   "execution_count": 2,
   "metadata": {
    "ExecuteTime": {
     "end_time": "2021-09-11T20:50:33.326810Z",
     "start_time": "2021-09-11T20:50:31.852178Z"
    }
   },
   "outputs": [],
   "source": [
    "import numpy as np\n",
    "import pandas as pd\n",
    "import warnings\n",
    "import matplotlib.pyplot as plt\n",
    "from matplotlib import rcParams\n",
    "import seaborn as sns\n",
    "\n",
    "plt.style.use(\"seaborn-whitegrid\")\n",
    "sns.set(style=\"whitegrid\", color_codes=True)\n",
    "\n",
    "\n",
    "rcParams[\"axes.labelsize\"] = 14\n",
    "rcParams[\"xtick.labelsize\"] = 12\n",
    "rcParams[\"ytick.labelsize\"] = 12\n",
    "rcParams[\"figure.figsize\"] = 16, 8\n",
    "\n",
    "warnings.filterwarnings(\"ignore\")"
   ]
  },
  {
   "cell_type": "code",
   "execution_count": 3,
   "metadata": {
    "ExecuteTime": {
     "end_time": "2021-09-11T20:50:33.355037Z",
     "start_time": "2021-09-11T20:50:33.330223Z"
    }
   },
   "outputs": [],
   "source": [
    "pain = pd.read_csv(\"data/pain.csv\").drop(columns=\"Unnamed: 6\")\n",
    "pain.columns = pain.columns.str.replace(\" \", \"\")\n",
    "pain[\"date\"] = pd.to_datetime(pain[\"date\"], dayfirst=True)  # .dt.strftime('%d/%m/%Y')\n",
    "pain = pain.set_index(\"date\")"
   ]
  },
  {
   "cell_type": "code",
   "execution_count": 4,
   "metadata": {
    "ExecuteTime": {
     "end_time": "2021-09-11T20:50:33.379802Z",
     "start_time": "2021-09-11T20:50:33.356925Z"
    }
   },
   "outputs": [],
   "source": [
    "sports = pd.read_csv(\"data/sport.csv\")\n",
    "sports.columns = sports.columns.str.replace(\" \", \"\")\n",
    "sports[\"date\"] = pd.to_datetime(sports[\"date\"], dayfirst=True)\n",
    "sports[\"sport\"] = sports[\"sport\"].str.strip()\n",
    "sports = sports.set_index(\"date\")"
   ]
  },
  {
   "cell_type": "code",
   "execution_count": 5,
   "metadata": {
    "ExecuteTime": {
     "end_time": "2021-09-11T20:50:33.387781Z",
     "start_time": "2021-09-11T20:50:33.382144Z"
    }
   },
   "outputs": [
    {
     "data": {
      "text/plain": [
       "(169, 5)"
      ]
     },
     "execution_count": 5,
     "metadata": {},
     "output_type": "execute_result"
    }
   ],
   "source": [
    "pain.shape"
   ]
  },
  {
   "cell_type": "code",
   "execution_count": null,
   "metadata": {},
   "outputs": [],
   "source": []
  },
  {
   "cell_type": "markdown",
   "metadata": {
    "heading_collapsed": true
   },
   "source": [
    "# Data Engineering"
   ]
  },
  {
   "cell_type": "markdown",
   "metadata": {
    "heading_collapsed": true,
    "hidden": true
   },
   "source": [
    "## Crossfit"
   ]
  },
  {
   "cell_type": "code",
   "execution_count": 6,
   "metadata": {
    "ExecuteTime": {
     "end_time": "2021-09-11T20:50:33.401529Z",
     "start_time": "2021-09-11T20:50:33.389644Z"
    },
    "hidden": true
   },
   "outputs": [],
   "source": [
    "cf = sports.reset_index().groupby([\"date\", \"sport\"]).sum().reset_index()\n",
    "cf = cf[cf.sport == \"CF\"]"
   ]
  },
  {
   "cell_type": "code",
   "execution_count": 7,
   "metadata": {
    "ExecuteTime": {
     "end_time": "2021-09-11T20:50:33.410960Z",
     "start_time": "2021-09-11T20:50:33.407247Z"
    },
    "hidden": true
   },
   "outputs": [],
   "source": [
    "cf.columns = [\"date\", \"sport\", \"total_intensity_CF\", \"knee_intensity_CF\", \"time\"]"
   ]
  },
  {
   "cell_type": "code",
   "execution_count": 8,
   "metadata": {
    "ExecuteTime": {
     "end_time": "2021-09-11T20:50:33.418908Z",
     "start_time": "2021-09-11T20:50:33.414425Z"
    },
    "hidden": true
   },
   "outputs": [],
   "source": [
    "df = pain.join(cf.set_index(\"date\").knee_intensity_CF)"
   ]
  },
  {
   "cell_type": "code",
   "execution_count": 9,
   "metadata": {
    "ExecuteTime": {
     "end_time": "2021-09-11T20:50:33.425352Z",
     "start_time": "2021-09-11T20:50:33.421365Z"
    },
    "hidden": true
   },
   "outputs": [],
   "source": [
    "df.fillna(0, inplace=True)"
   ]
  },
  {
   "cell_type": "code",
   "execution_count": 10,
   "metadata": {
    "ExecuteTime": {
     "end_time": "2021-09-11T20:50:33.433529Z",
     "start_time": "2021-09-11T20:50:33.427706Z"
    },
    "hidden": true
   },
   "outputs": [],
   "source": [
    "df[\"knee_intensity_CF_lag_1\"] = df.knee_intensity_CF.shift(1)\n",
    "df[\"knee_intensity_CF_lag_2\"] = df.knee_intensity_CF.shift(2)\n",
    "df[\"knee_intensity_CF_lag_3\"] = df.knee_intensity_CF.shift(3)"
   ]
  },
  {
   "cell_type": "code",
   "execution_count": 11,
   "metadata": {
    "ExecuteTime": {
     "end_time": "2021-09-11T20:50:33.441013Z",
     "start_time": "2021-09-11T20:50:33.435999Z"
    },
    "hidden": true
   },
   "outputs": [],
   "source": [
    "df.fillna(0, inplace=True)"
   ]
  },
  {
   "cell_type": "markdown",
   "metadata": {
    "heading_collapsed": true,
    "hidden": true
   },
   "source": [
    "## Kite"
   ]
  },
  {
   "cell_type": "code",
   "execution_count": 12,
   "metadata": {
    "ExecuteTime": {
     "end_time": "2021-09-11T20:50:33.452642Z",
     "start_time": "2021-09-11T20:50:33.442722Z"
    },
    "hidden": true
   },
   "outputs": [],
   "source": [
    "kite = sports.reset_index().groupby([\"date\", \"sport\"]).sum().reset_index()\n",
    "kite = kite[kite.sport == \"Kite\"]"
   ]
  },
  {
   "cell_type": "code",
   "execution_count": 13,
   "metadata": {
    "ExecuteTime": {
     "end_time": "2021-09-11T20:50:33.458460Z",
     "start_time": "2021-09-11T20:50:33.454337Z"
    },
    "hidden": true
   },
   "outputs": [],
   "source": [
    "kite.columns = [\"date\", \"sport\", \"total_intensity_kite\", \"knee_intensity_kite\", \"time\"]"
   ]
  },
  {
   "cell_type": "code",
   "execution_count": 14,
   "metadata": {
    "ExecuteTime": {
     "end_time": "2021-09-11T20:50:33.466254Z",
     "start_time": "2021-09-11T20:50:33.460380Z"
    },
    "hidden": true
   },
   "outputs": [],
   "source": [
    "df = df.join(kite.set_index(\"date\").knee_intensity_kite)"
   ]
  },
  {
   "cell_type": "code",
   "execution_count": 15,
   "metadata": {
    "ExecuteTime": {
     "end_time": "2021-09-11T20:50:33.471773Z",
     "start_time": "2021-09-11T20:50:33.467745Z"
    },
    "hidden": true
   },
   "outputs": [],
   "source": [
    "df.fillna(0, inplace=True)"
   ]
  },
  {
   "cell_type": "code",
   "execution_count": 16,
   "metadata": {
    "ExecuteTime": {
     "end_time": "2021-09-11T20:50:33.479148Z",
     "start_time": "2021-09-11T20:50:33.473899Z"
    },
    "hidden": true
   },
   "outputs": [],
   "source": [
    "df[\"knee_intensity_kite_lag_1\"] = df.knee_intensity_kite.shift(1)\n",
    "df[\"knee_intensity_kite_lag_2\"] = df.knee_intensity_kite.shift(2)\n",
    "df[\"knee_intensity_kite_lag_3\"] = df.knee_intensity_kite.shift(3)"
   ]
  },
  {
   "cell_type": "code",
   "execution_count": 17,
   "metadata": {
    "ExecuteTime": {
     "end_time": "2021-09-11T20:50:33.485529Z",
     "start_time": "2021-09-11T20:50:33.481067Z"
    },
    "hidden": true
   },
   "outputs": [],
   "source": [
    "df.fillna(0, inplace=True)"
   ]
  },
  {
   "cell_type": "code",
   "execution_count": 18,
   "metadata": {
    "ExecuteTime": {
     "end_time": "2021-09-11T20:50:33.511927Z",
     "start_time": "2021-09-11T20:50:33.486865Z"
    },
    "hidden": true
   },
   "outputs": [
    {
     "data": {
      "text/html": [
       "<div>\n",
       "<style scoped>\n",
       "    .dataframe tbody tr th:only-of-type {\n",
       "        vertical-align: middle;\n",
       "    }\n",
       "\n",
       "    .dataframe tbody tr th {\n",
       "        vertical-align: top;\n",
       "    }\n",
       "\n",
       "    .dataframe thead th {\n",
       "        text-align: right;\n",
       "    }\n",
       "</style>\n",
       "<table border=\"1\" class=\"dataframe\">\n",
       "  <thead>\n",
       "    <tr style=\"text-align: right;\">\n",
       "      <th></th>\n",
       "      <th>pain</th>\n",
       "      <th>leg_fatigue</th>\n",
       "      <th>total_fatigue</th>\n",
       "      <th>nsaids</th>\n",
       "      <th>colageno</th>\n",
       "      <th>knee_intensity_CF</th>\n",
       "      <th>knee_intensity_CF_lag_1</th>\n",
       "      <th>knee_intensity_CF_lag_2</th>\n",
       "      <th>knee_intensity_CF_lag_3</th>\n",
       "      <th>knee_intensity_kite</th>\n",
       "      <th>knee_intensity_kite_lag_1</th>\n",
       "      <th>knee_intensity_kite_lag_2</th>\n",
       "      <th>knee_intensity_kite_lag_3</th>\n",
       "    </tr>\n",
       "    <tr>\n",
       "      <th>date</th>\n",
       "      <th></th>\n",
       "      <th></th>\n",
       "      <th></th>\n",
       "      <th></th>\n",
       "      <th></th>\n",
       "      <th></th>\n",
       "      <th></th>\n",
       "      <th></th>\n",
       "      <th></th>\n",
       "      <th></th>\n",
       "      <th></th>\n",
       "      <th></th>\n",
       "      <th></th>\n",
       "    </tr>\n",
       "  </thead>\n",
       "  <tbody>\n",
       "    <tr>\n",
       "      <th>2021-03-27</th>\n",
       "      <td>4.0</td>\n",
       "      <td>2</td>\n",
       "      <td>2</td>\n",
       "      <td>False</td>\n",
       "      <td>False</td>\n",
       "      <td>10.0</td>\n",
       "      <td>0.0</td>\n",
       "      <td>0.0</td>\n",
       "      <td>0.0</td>\n",
       "      <td>0.0</td>\n",
       "      <td>0.0</td>\n",
       "      <td>0.0</td>\n",
       "      <td>0.0</td>\n",
       "    </tr>\n",
       "    <tr>\n",
       "      <th>2021-03-28</th>\n",
       "      <td>7.0</td>\n",
       "      <td>10</td>\n",
       "      <td>10</td>\n",
       "      <td>False</td>\n",
       "      <td>False</td>\n",
       "      <td>0.0</td>\n",
       "      <td>10.0</td>\n",
       "      <td>0.0</td>\n",
       "      <td>0.0</td>\n",
       "      <td>0.0</td>\n",
       "      <td>0.0</td>\n",
       "      <td>0.0</td>\n",
       "      <td>0.0</td>\n",
       "    </tr>\n",
       "    <tr>\n",
       "      <th>2021-03-29</th>\n",
       "      <td>6.0</td>\n",
       "      <td>8</td>\n",
       "      <td>8</td>\n",
       "      <td>False</td>\n",
       "      <td>False</td>\n",
       "      <td>0.0</td>\n",
       "      <td>0.0</td>\n",
       "      <td>10.0</td>\n",
       "      <td>0.0</td>\n",
       "      <td>0.0</td>\n",
       "      <td>0.0</td>\n",
       "      <td>0.0</td>\n",
       "      <td>0.0</td>\n",
       "    </tr>\n",
       "    <tr>\n",
       "      <th>2021-03-30</th>\n",
       "      <td>5.0</td>\n",
       "      <td>6</td>\n",
       "      <td>6</td>\n",
       "      <td>False</td>\n",
       "      <td>False</td>\n",
       "      <td>0.0</td>\n",
       "      <td>0.0</td>\n",
       "      <td>0.0</td>\n",
       "      <td>10.0</td>\n",
       "      <td>0.0</td>\n",
       "      <td>0.0</td>\n",
       "      <td>0.0</td>\n",
       "      <td>0.0</td>\n",
       "    </tr>\n",
       "    <tr>\n",
       "      <th>2021-03-31</th>\n",
       "      <td>3.0</td>\n",
       "      <td>3</td>\n",
       "      <td>4</td>\n",
       "      <td>False</td>\n",
       "      <td>False</td>\n",
       "      <td>0.0</td>\n",
       "      <td>0.0</td>\n",
       "      <td>0.0</td>\n",
       "      <td>0.0</td>\n",
       "      <td>0.0</td>\n",
       "      <td>0.0</td>\n",
       "      <td>0.0</td>\n",
       "      <td>0.0</td>\n",
       "    </tr>\n",
       "    <tr>\n",
       "      <th>...</th>\n",
       "      <td>...</td>\n",
       "      <td>...</td>\n",
       "      <td>...</td>\n",
       "      <td>...</td>\n",
       "      <td>...</td>\n",
       "      <td>...</td>\n",
       "      <td>...</td>\n",
       "      <td>...</td>\n",
       "      <td>...</td>\n",
       "      <td>...</td>\n",
       "      <td>...</td>\n",
       "      <td>...</td>\n",
       "      <td>...</td>\n",
       "    </tr>\n",
       "    <tr>\n",
       "      <th>2021-09-07</th>\n",
       "      <td>1.0</td>\n",
       "      <td>0</td>\n",
       "      <td>2</td>\n",
       "      <td>False</td>\n",
       "      <td>False</td>\n",
       "      <td>4.0</td>\n",
       "      <td>0.0</td>\n",
       "      <td>0.0</td>\n",
       "      <td>0.0</td>\n",
       "      <td>0.0</td>\n",
       "      <td>0.0</td>\n",
       "      <td>0.0</td>\n",
       "      <td>6.0</td>\n",
       "    </tr>\n",
       "    <tr>\n",
       "      <th>2021-09-08</th>\n",
       "      <td>0.0</td>\n",
       "      <td>0</td>\n",
       "      <td>2</td>\n",
       "      <td>False</td>\n",
       "      <td>False</td>\n",
       "      <td>0.0</td>\n",
       "      <td>4.0</td>\n",
       "      <td>0.0</td>\n",
       "      <td>0.0</td>\n",
       "      <td>0.0</td>\n",
       "      <td>0.0</td>\n",
       "      <td>0.0</td>\n",
       "      <td>0.0</td>\n",
       "    </tr>\n",
       "    <tr>\n",
       "      <th>2021-09-09</th>\n",
       "      <td>1.0</td>\n",
       "      <td>0</td>\n",
       "      <td>1</td>\n",
       "      <td>False</td>\n",
       "      <td>False</td>\n",
       "      <td>0.0</td>\n",
       "      <td>0.0</td>\n",
       "      <td>4.0</td>\n",
       "      <td>0.0</td>\n",
       "      <td>0.0</td>\n",
       "      <td>0.0</td>\n",
       "      <td>0.0</td>\n",
       "      <td>0.0</td>\n",
       "    </tr>\n",
       "    <tr>\n",
       "      <th>2021-09-10</th>\n",
       "      <td>1.0</td>\n",
       "      <td>0</td>\n",
       "      <td>1</td>\n",
       "      <td>False</td>\n",
       "      <td>False</td>\n",
       "      <td>0.0</td>\n",
       "      <td>0.0</td>\n",
       "      <td>0.0</td>\n",
       "      <td>4.0</td>\n",
       "      <td>0.0</td>\n",
       "      <td>0.0</td>\n",
       "      <td>0.0</td>\n",
       "      <td>0.0</td>\n",
       "    </tr>\n",
       "    <tr>\n",
       "      <th>2021-09-11</th>\n",
       "      <td>0.0</td>\n",
       "      <td>0</td>\n",
       "      <td>2</td>\n",
       "      <td>False</td>\n",
       "      <td>False</td>\n",
       "      <td>0.0</td>\n",
       "      <td>0.0</td>\n",
       "      <td>0.0</td>\n",
       "      <td>0.0</td>\n",
       "      <td>0.0</td>\n",
       "      <td>0.0</td>\n",
       "      <td>0.0</td>\n",
       "      <td>0.0</td>\n",
       "    </tr>\n",
       "  </tbody>\n",
       "</table>\n",
       "<p>169 rows × 13 columns</p>\n",
       "</div>"
      ],
      "text/plain": [
       "            pain  leg_fatigue  total_fatigue  nsaids colageno  \\\n",
       "date                                                            \n",
       "2021-03-27   4.0            2              2   False    False   \n",
       "2021-03-28   7.0           10             10   False    False   \n",
       "2021-03-29   6.0            8              8   False    False   \n",
       "2021-03-30   5.0            6              6   False    False   \n",
       "2021-03-31   3.0            3              4   False    False   \n",
       "...          ...          ...            ...     ...      ...   \n",
       "2021-09-07   1.0            0              2   False    False   \n",
       "2021-09-08   0.0            0              2   False    False   \n",
       "2021-09-09   1.0            0              1   False    False   \n",
       "2021-09-10   1.0            0              1   False    False   \n",
       "2021-09-11   0.0            0              2   False    False   \n",
       "\n",
       "            knee_intensity_CF  knee_intensity_CF_lag_1  \\\n",
       "date                                                     \n",
       "2021-03-27               10.0                      0.0   \n",
       "2021-03-28                0.0                     10.0   \n",
       "2021-03-29                0.0                      0.0   \n",
       "2021-03-30                0.0                      0.0   \n",
       "2021-03-31                0.0                      0.0   \n",
       "...                       ...                      ...   \n",
       "2021-09-07                4.0                      0.0   \n",
       "2021-09-08                0.0                      4.0   \n",
       "2021-09-09                0.0                      0.0   \n",
       "2021-09-10                0.0                      0.0   \n",
       "2021-09-11                0.0                      0.0   \n",
       "\n",
       "            knee_intensity_CF_lag_2  knee_intensity_CF_lag_3  \\\n",
       "date                                                           \n",
       "2021-03-27                      0.0                      0.0   \n",
       "2021-03-28                      0.0                      0.0   \n",
       "2021-03-29                     10.0                      0.0   \n",
       "2021-03-30                      0.0                     10.0   \n",
       "2021-03-31                      0.0                      0.0   \n",
       "...                             ...                      ...   \n",
       "2021-09-07                      0.0                      0.0   \n",
       "2021-09-08                      0.0                      0.0   \n",
       "2021-09-09                      4.0                      0.0   \n",
       "2021-09-10                      0.0                      4.0   \n",
       "2021-09-11                      0.0                      0.0   \n",
       "\n",
       "            knee_intensity_kite  knee_intensity_kite_lag_1  \\\n",
       "date                                                         \n",
       "2021-03-27                  0.0                        0.0   \n",
       "2021-03-28                  0.0                        0.0   \n",
       "2021-03-29                  0.0                        0.0   \n",
       "2021-03-30                  0.0                        0.0   \n",
       "2021-03-31                  0.0                        0.0   \n",
       "...                         ...                        ...   \n",
       "2021-09-07                  0.0                        0.0   \n",
       "2021-09-08                  0.0                        0.0   \n",
       "2021-09-09                  0.0                        0.0   \n",
       "2021-09-10                  0.0                        0.0   \n",
       "2021-09-11                  0.0                        0.0   \n",
       "\n",
       "            knee_intensity_kite_lag_2  knee_intensity_kite_lag_3  \n",
       "date                                                              \n",
       "2021-03-27                        0.0                        0.0  \n",
       "2021-03-28                        0.0                        0.0  \n",
       "2021-03-29                        0.0                        0.0  \n",
       "2021-03-30                        0.0                        0.0  \n",
       "2021-03-31                        0.0                        0.0  \n",
       "...                               ...                        ...  \n",
       "2021-09-07                        0.0                        6.0  \n",
       "2021-09-08                        0.0                        0.0  \n",
       "2021-09-09                        0.0                        0.0  \n",
       "2021-09-10                        0.0                        0.0  \n",
       "2021-09-11                        0.0                        0.0  \n",
       "\n",
       "[169 rows x 13 columns]"
      ]
     },
     "execution_count": 18,
     "metadata": {},
     "output_type": "execute_result"
    }
   ],
   "source": [
    "df"
   ]
  },
  {
   "cell_type": "markdown",
   "metadata": {
    "heading_collapsed": true,
    "hidden": true
   },
   "source": [
    "## Others"
   ]
  },
  {
   "cell_type": "code",
   "execution_count": 19,
   "metadata": {
    "ExecuteTime": {
     "end_time": "2021-09-11T20:50:33.525877Z",
     "start_time": "2021-09-11T20:50:33.514985Z"
    },
    "hidden": true
   },
   "outputs": [],
   "source": [
    "aux = sports.reset_index().groupby([\"date\", \"sport\"]).sum().reset_index()\n",
    "aux = aux[(aux.sport != \"CF\") & (aux.sport != \"Kite\")]"
   ]
  },
  {
   "cell_type": "code",
   "execution_count": 20,
   "metadata": {
    "ExecuteTime": {
     "end_time": "2021-09-11T20:50:33.532444Z",
     "start_time": "2021-09-11T20:50:33.528237Z"
    },
    "hidden": true
   },
   "outputs": [],
   "source": [
    "aux.columns = [\"date\", \"sport\", \"total_intensity_other\", \"knee_intensity_other\", \"time\"]"
   ]
  },
  {
   "cell_type": "code",
   "execution_count": 21,
   "metadata": {
    "ExecuteTime": {
     "end_time": "2021-09-11T20:50:33.540836Z",
     "start_time": "2021-09-11T20:50:33.534770Z"
    },
    "hidden": true
   },
   "outputs": [],
   "source": [
    "df = df.join(aux.set_index(\"date\").knee_intensity_other)"
   ]
  },
  {
   "cell_type": "code",
   "execution_count": 22,
   "metadata": {
    "ExecuteTime": {
     "end_time": "2021-09-11T20:50:33.550931Z",
     "start_time": "2021-09-11T20:50:33.547672Z"
    },
    "hidden": true
   },
   "outputs": [],
   "source": [
    "df.fillna(0, inplace=True)"
   ]
  },
  {
   "cell_type": "code",
   "execution_count": 23,
   "metadata": {
    "ExecuteTime": {
     "end_time": "2021-09-11T20:50:33.559966Z",
     "start_time": "2021-09-11T20:50:33.555413Z"
    },
    "hidden": true
   },
   "outputs": [],
   "source": [
    "df[\"knee_intensity_other_lag_1\"] = df.knee_intensity_other.shift(1)\n",
    "df[\"knee_intensity_other_lag_2\"] = df.knee_intensity_other.shift(2)\n",
    "df[\"knee_intensity_other_lag_3\"] = df.knee_intensity_other.shift(3)"
   ]
  },
  {
   "cell_type": "code",
   "execution_count": 24,
   "metadata": {
    "ExecuteTime": {
     "end_time": "2021-09-11T20:50:33.568113Z",
     "start_time": "2021-09-11T20:50:33.561952Z"
    },
    "hidden": true
   },
   "outputs": [],
   "source": [
    "df.fillna(0, inplace=True)"
   ]
  },
  {
   "cell_type": "markdown",
   "metadata": {},
   "source": [
    "# Modeling"
   ]
  },
  {
   "cell_type": "markdown",
   "metadata": {
    "heading_collapsed": true
   },
   "source": [
    "## Predict the same day"
   ]
  },
  {
   "cell_type": "code",
   "execution_count": 25,
   "metadata": {
    "ExecuteTime": {
     "end_time": "2021-09-11T20:50:34.787666Z",
     "start_time": "2021-09-11T20:50:33.570782Z"
    },
    "hidden": true
   },
   "outputs": [],
   "source": [
    "from sklearn.model_selection import train_test_split\n",
    "from sklearn.metrics import mean_absolute_error\n",
    "\n",
    "import shap\n",
    "from sklearn.linear_model import Lasso\n",
    "from sklearn.tree import DecisionTreeRegressor, plot_tree\n",
    "from sklearn.ensemble import RandomForestRegressor\n",
    "from xgboost import XGBRFRegressor"
   ]
  },
  {
   "cell_type": "code",
   "execution_count": 26,
   "metadata": {
    "ExecuteTime": {
     "end_time": "2021-09-11T20:50:34.796604Z",
     "start_time": "2021-09-11T20:50:34.790177Z"
    },
    "hidden": true,
    "scrolled": false
   },
   "outputs": [],
   "source": [
    "df = df.reset_index(drop=True)"
   ]
  },
  {
   "cell_type": "code",
   "execution_count": 27,
   "metadata": {
    "ExecuteTime": {
     "end_time": "2021-09-11T20:50:34.802564Z",
     "start_time": "2021-09-11T20:50:34.798329Z"
    },
    "hidden": true
   },
   "outputs": [],
   "source": [
    "df.nsaids = df.nsaids.astype(bool)"
   ]
  },
  {
   "cell_type": "code",
   "execution_count": 28,
   "metadata": {
    "ExecuteTime": {
     "end_time": "2021-09-11T20:50:34.808705Z",
     "start_time": "2021-09-11T20:50:34.804881Z"
    },
    "hidden": true
   },
   "outputs": [],
   "source": [
    "df.colageno = df.colageno.astype(bool)"
   ]
  },
  {
   "cell_type": "code",
   "execution_count": 29,
   "metadata": {
    "ExecuteTime": {
     "end_time": "2021-09-11T20:50:34.819057Z",
     "start_time": "2021-09-11T20:50:34.810612Z"
    },
    "hidden": true
   },
   "outputs": [],
   "source": [
    "X_tr, X_te, y_tr, y_te = train_test_split(\n",
    "    df.drop(columns=\"pain\"), df[[\"pain\"]], test_size=0.2, random_state=42\n",
    ")"
   ]
  },
  {
   "cell_type": "markdown",
   "metadata": {
    "hidden": true
   },
   "source": [
    "### Dummy"
   ]
  },
  {
   "cell_type": "code",
   "execution_count": 30,
   "metadata": {
    "ExecuteTime": {
     "end_time": "2021-09-11T20:50:34.829908Z",
     "start_time": "2021-09-11T20:50:34.821057Z"
    },
    "hidden": true
   },
   "outputs": [
    {
     "data": {
      "text/plain": [
       "0.9975999999999999"
      ]
     },
     "execution_count": 30,
     "metadata": {},
     "output_type": "execute_result"
    }
   ],
   "source": [
    "mean_absolute_error(np.zeros_like(y_tr) + np.mean(y_tr).values, y_tr)"
   ]
  },
  {
   "cell_type": "code",
   "execution_count": 31,
   "metadata": {
    "ExecuteTime": {
     "end_time": "2021-09-11T20:50:34.841962Z",
     "start_time": "2021-09-11T20:50:34.833834Z"
    },
    "hidden": true
   },
   "outputs": [
    {
     "data": {
      "text/plain": [
       "0.7271468144044321"
      ]
     },
     "execution_count": 31,
     "metadata": {},
     "output_type": "execute_result"
    }
   ],
   "source": [
    "mean_absolute_error(np.zeros_like(y_te) + np.mean(y_te).values, y_te)"
   ]
  },
  {
   "cell_type": "markdown",
   "metadata": {
    "hidden": true
   },
   "source": [
    "### Lasso"
   ]
  },
  {
   "cell_type": "code",
   "execution_count": 32,
   "metadata": {
    "ExecuteTime": {
     "end_time": "2021-09-11T20:50:34.848397Z",
     "start_time": "2021-09-11T20:50:34.844289Z"
    },
    "hidden": true
   },
   "outputs": [],
   "source": [
    "clf = Lasso(alpha=0.1)"
   ]
  },
  {
   "cell_type": "code",
   "execution_count": 33,
   "metadata": {
    "ExecuteTime": {
     "end_time": "2021-09-11T20:50:34.859387Z",
     "start_time": "2021-09-11T20:50:34.850570Z"
    },
    "hidden": true
   },
   "outputs": [
    {
     "data": {
      "text/plain": [
       "Lasso(alpha=0.1)"
      ]
     },
     "execution_count": 33,
     "metadata": {},
     "output_type": "execute_result"
    }
   ],
   "source": [
    "clf.fit(X_tr, y_tr)"
   ]
  },
  {
   "cell_type": "code",
   "execution_count": 34,
   "metadata": {
    "ExecuteTime": {
     "end_time": "2021-09-11T20:50:34.870682Z",
     "start_time": "2021-09-11T20:50:34.861826Z"
    },
    "hidden": true
   },
   "outputs": [
    {
     "data": {
      "text/plain": [
       "0.9211861388177108"
      ]
     },
     "execution_count": 34,
     "metadata": {},
     "output_type": "execute_result"
    }
   ],
   "source": [
    "mean_absolute_error(clf.predict(X_tr), y_tr)"
   ]
  },
  {
   "cell_type": "code",
   "execution_count": 35,
   "metadata": {
    "ExecuteTime": {
     "end_time": "2021-09-11T20:50:34.903593Z",
     "start_time": "2021-09-11T20:50:34.874791Z"
    },
    "hidden": true,
    "scrolled": true
   },
   "outputs": [
    {
     "data": {
      "text/plain": [
       "0.7773145321425133"
      ]
     },
     "execution_count": 35,
     "metadata": {},
     "output_type": "execute_result"
    }
   ],
   "source": [
    "mean_absolute_error(clf.predict(X_te), y_te)"
   ]
  },
  {
   "cell_type": "code",
   "execution_count": 36,
   "metadata": {
    "ExecuteTime": {
     "end_time": "2021-09-11T20:50:34.920585Z",
     "start_time": "2021-09-11T20:50:34.911803Z"
    },
    "hidden": true
   },
   "outputs": [
    {
     "name": "stdout",
     "output_type": "stream",
     "text": [
      "Model coefficients:\n",
      "\n",
      "leg_fatigue = 0.1189\n",
      "total_fatigue = 0.0554\n",
      "nsaids = 0.0\n",
      "colageno = 0.0\n",
      "knee_intensity_CF = 0.0505\n",
      "knee_intensity_CF_lag_1 = 0.004\n",
      "knee_intensity_CF_lag_2 = 0.0213\n",
      "knee_intensity_CF_lag_3 = 0.0119\n",
      "knee_intensity_kite = 0.0274\n",
      "knee_intensity_kite_lag_1 = 0.0\n",
      "knee_intensity_kite_lag_2 = 0.0\n",
      "knee_intensity_kite_lag_3 = -0.0184\n",
      "knee_intensity_other = 0.0468\n",
      "knee_intensity_other_lag_1 = 0.0\n",
      "knee_intensity_other_lag_2 = 0.0\n",
      "knee_intensity_other_lag_3 = 0.0194\n"
     ]
    }
   ],
   "source": [
    "print(\"Model coefficients:\\n\")\n",
    "for i in range(X_tr.shape[1]):\n",
    "    print(X_tr.columns[i], \"=\", clf.coef_[i].round(4))"
   ]
  },
  {
   "cell_type": "markdown",
   "metadata": {
    "hidden": true
   },
   "source": [
    "### Decision tree"
   ]
  },
  {
   "cell_type": "code",
   "execution_count": 37,
   "metadata": {
    "ExecuteTime": {
     "end_time": "2021-09-11T20:50:34.933283Z",
     "start_time": "2021-09-11T20:50:34.922588Z"
    },
    "hidden": true
   },
   "outputs": [
    {
     "data": {
      "text/plain": [
       "DecisionTreeRegressor(criterion='mae', max_depth=3)"
      ]
     },
     "execution_count": 37,
     "metadata": {},
     "output_type": "execute_result"
    }
   ],
   "source": [
    "dt = DecisionTreeRegressor(max_depth=3, criterion=\"mae\")\n",
    "dt.fit(X_tr, y_tr)"
   ]
  },
  {
   "cell_type": "code",
   "execution_count": 38,
   "metadata": {
    "ExecuteTime": {
     "end_time": "2021-09-11T20:50:34.939608Z",
     "start_time": "2021-09-11T20:50:34.935839Z"
    },
    "hidden": true
   },
   "outputs": [
    {
     "name": "stdout",
     "output_type": "stream",
     "text": [
      "Decision Tree Results\n"
     ]
    }
   ],
   "source": [
    "print(\"Decision Tree Results\")"
   ]
  },
  {
   "cell_type": "code",
   "execution_count": 39,
   "metadata": {
    "ExecuteTime": {
     "end_time": "2021-09-11T20:50:34.948094Z",
     "start_time": "2021-09-11T20:50:34.941628Z"
    },
    "hidden": true
   },
   "outputs": [
    {
     "name": "stdout",
     "output_type": "stream",
     "text": [
      "Train  0.7133333333333334\n"
     ]
    }
   ],
   "source": [
    "print(\"Train \", mean_absolute_error(dt.predict(X_tr), y_tr))"
   ]
  },
  {
   "cell_type": "code",
   "execution_count": 40,
   "metadata": {
    "ExecuteTime": {
     "end_time": "2021-09-11T20:50:34.956938Z",
     "start_time": "2021-09-11T20:50:34.950318Z"
    },
    "hidden": true
   },
   "outputs": [
    {
     "name": "stdout",
     "output_type": "stream",
     "text": [
      "Test  0.7631578947368421\n"
     ]
    }
   ],
   "source": [
    "print(\"Test \", mean_absolute_error(dt.predict(X_te), y_te))"
   ]
  },
  {
   "cell_type": "code",
   "execution_count": 41,
   "metadata": {
    "ExecuteTime": {
     "end_time": "2021-09-11T20:50:35.699757Z",
     "start_time": "2021-09-11T20:50:34.959359Z"
    },
    "hidden": true
   },
   "outputs": [
    {
     "data": {
      "image/png": "[encoded data removed]",
      "text/plain": [
       "<Figure size 1152x576 with 1 Axes>"
      ]
     },
     "metadata": {},
     "output_type": "display_data"
    }
   ],
   "source": [
    "plt.figure()\n",
    "plot_tree(dt, feature_names=X_te.columns, filled=True)\n",
    "plt.savefig(\"images/dt.svg\", format=\"svg\")"
   ]
  },
  {
   "cell_type": "markdown",
   "metadata": {
    "hidden": true
   },
   "source": [
    "### Random Forest"
   ]
  },
  {
   "cell_type": "code",
   "execution_count": 42,
   "metadata": {
    "ExecuteTime": {
     "end_time": "2021-09-11T20:50:35.813217Z",
     "start_time": "2021-09-11T20:50:35.702088Z"
    },
    "hidden": true
   },
   "outputs": [
    {
     "data": {
      "text/plain": [
       "RandomForestRegressor(min_samples_leaf=3)"
      ]
     },
     "execution_count": 42,
     "metadata": {},
     "output_type": "execute_result"
    }
   ],
   "source": [
    "rf = RandomForestRegressor(min_samples_leaf=3)\n",
    "rf.fit(X_tr, y_tr)"
   ]
  },
  {
   "cell_type": "code",
   "execution_count": 43,
   "metadata": {
    "ExecuteTime": {
     "end_time": "2021-09-11T20:50:35.819216Z",
     "start_time": "2021-09-11T20:50:35.815393Z"
    },
    "hidden": true
   },
   "outputs": [
    {
     "name": "stdout",
     "output_type": "stream",
     "text": [
      "RF results\n"
     ]
    }
   ],
   "source": [
    "print(\"RF results\")"
   ]
  },
  {
   "cell_type": "code",
   "execution_count": 44,
   "metadata": {
    "ExecuteTime": {
     "end_time": "2021-09-11T20:50:35.838019Z",
     "start_time": "2021-09-11T20:50:35.821714Z"
    },
    "hidden": true
   },
   "outputs": [
    {
     "name": "stdout",
     "output_type": "stream",
     "text": [
      "Train 0.562180741943242\n"
     ]
    }
   ],
   "source": [
    "print(\"Train\", mean_absolute_error(rf.predict(X_tr), y_tr))"
   ]
  },
  {
   "cell_type": "code",
   "execution_count": 45,
   "metadata": {
    "ExecuteTime": {
     "end_time": "2021-09-11T20:50:35.855857Z",
     "start_time": "2021-09-11T20:50:35.840503Z"
    },
    "hidden": true
   },
   "outputs": [
    {
     "name": "stdout",
     "output_type": "stream",
     "text": [
      "Test 0.8073844269765322\n"
     ]
    }
   ],
   "source": [
    "print(\"Test\", mean_absolute_error(rf.predict(X_te), y_te))"
   ]
  },
  {
   "cell_type": "markdown",
   "metadata": {
    "hidden": true
   },
   "source": [
    "### Xgboost"
   ]
  },
  {
   "cell_type": "code",
   "execution_count": 46,
   "metadata": {
    "ExecuteTime": {
     "end_time": "2021-09-11T20:50:35.928422Z",
     "start_time": "2021-09-11T20:50:35.858441Z"
    },
    "hidden": true
   },
   "outputs": [
    {
     "name": "stdout",
     "output_type": "stream",
     "text": [
      "XGB Results\n",
      "Train  0.5368832663695018\n"
     ]
    }
   ],
   "source": [
    "xgb = XGBRFRegressor().fit(X_tr, y_tr)\n",
    "print(\"XGB Results\")\n",
    "print(\"Train \", mean_absolute_error(xgb.predict(X_tr), y_tr))"
   ]
  },
  {
   "cell_type": "code",
   "execution_count": 47,
   "metadata": {
    "ExecuteTime": {
     "end_time": "2021-09-11T20:50:35.939764Z",
     "start_time": "2021-09-11T20:50:35.930706Z"
    },
    "hidden": true
   },
   "outputs": [
    {
     "name": "stdout",
     "output_type": "stream",
     "text": [
      "Test  0.7862265439409959\n"
     ]
    }
   ],
   "source": [
    "print(\"Test \", mean_absolute_error(xgb.predict(X_te), y_te))"
   ]
  },
  {
   "cell_type": "markdown",
   "metadata": {},
   "source": [
    "## Predict Next Day"
   ]
  },
  {
   "cell_type": "code",
   "execution_count": 48,
   "metadata": {
    "ExecuteTime": {
     "end_time": "2021-09-11T20:50:35.955280Z",
     "start_time": "2021-09-11T20:50:35.942374Z"
    }
   },
   "outputs": [],
   "source": [
    "df[\"pain_shift\"] = df.pain - df.pain.shift()\n",
    "df = df.dropna().drop(columns=\"pain\")\n",
    "X_tr, X_te, y_tr, y_te = train_test_split(\n",
    "    df.drop(columns=\"pain_shift\"), df[[\"pain_shift\"]], test_size=0.2, random_state=42\n",
    ")"
   ]
  },
  {
   "cell_type": "markdown",
   "metadata": {},
   "source": [
    "### Dummy"
   ]
  },
  {
   "cell_type": "code",
   "execution_count": 49,
   "metadata": {
    "ExecuteTime": {
     "end_time": "2021-09-11T20:50:35.965529Z",
     "start_time": "2021-09-11T20:50:35.957370Z"
    }
   },
   "outputs": [
    {
     "data": {
      "text/plain": [
       "0.7421737759560381"
      ]
     },
     "execution_count": 49,
     "metadata": {},
     "output_type": "execute_result"
    }
   ],
   "source": [
    "mean_absolute_error(np.zeros_like(y_tr) + np.mean(y_tr).values, y_tr)"
   ]
  },
  {
   "cell_type": "code",
   "execution_count": 50,
   "metadata": {
    "ExecuteTime": {
     "end_time": "2021-09-11T20:50:35.976141Z",
     "start_time": "2021-09-11T20:50:35.968132Z"
    }
   },
   "outputs": [
    {
     "data": {
      "text/plain": [
       "0.5789473684210527"
      ]
     },
     "execution_count": 50,
     "metadata": {},
     "output_type": "execute_result"
    }
   ],
   "source": [
    "mean_absolute_error(np.zeros_like(y_te) + np.mean(y_te).values, y_te)"
   ]
  },
  {
   "cell_type": "markdown",
   "metadata": {},
   "source": [
    "### Lasso"
   ]
  },
  {
   "cell_type": "code",
   "execution_count": 51,
   "metadata": {
    "ExecuteTime": {
     "end_time": "2021-09-11T20:50:35.983272Z",
     "start_time": "2021-09-11T20:50:35.978802Z"
    }
   },
   "outputs": [],
   "source": [
    "clf = Lasso(alpha=0.1)"
   ]
  },
  {
   "cell_type": "code",
   "execution_count": 52,
   "metadata": {
    "ExecuteTime": {
     "end_time": "2021-09-11T20:50:35.995278Z",
     "start_time": "2021-09-11T20:50:35.985913Z"
    }
   },
   "outputs": [
    {
     "data": {
      "text/plain": [
       "Lasso(alpha=0.1)"
      ]
     },
     "execution_count": 52,
     "metadata": {},
     "output_type": "execute_result"
    }
   ],
   "source": [
    "clf.fit(X_tr, y_tr)"
   ]
  },
  {
   "cell_type": "code",
   "execution_count": 53,
   "metadata": {
    "ExecuteTime": {
     "end_time": "2021-09-11T20:50:36.007537Z",
     "start_time": "2021-09-11T20:50:35.998204Z"
    }
   },
   "outputs": [
    {
     "data": {
      "text/plain": [
       "0.7570606109675946"
      ]
     },
     "execution_count": 53,
     "metadata": {},
     "output_type": "execute_result"
    }
   ],
   "source": [
    "mean_absolute_error(clf.predict(X_tr), y_tr)"
   ]
  },
  {
   "cell_type": "code",
   "execution_count": 54,
   "metadata": {
    "ExecuteTime": {
     "end_time": "2021-09-11T20:50:36.019239Z",
     "start_time": "2021-09-11T20:50:36.010367Z"
    },
    "scrolled": true
   },
   "outputs": [
    {
     "data": {
      "text/plain": [
       "0.6586512748065464"
      ]
     },
     "execution_count": 54,
     "metadata": {},
     "output_type": "execute_result"
    }
   ],
   "source": [
    "mean_absolute_error(clf.predict(X_te), y_te)"
   ]
  },
  {
   "cell_type": "code",
   "execution_count": 55,
   "metadata": {
    "ExecuteTime": {
     "end_time": "2021-09-11T20:50:36.031172Z",
     "start_time": "2021-09-11T20:50:36.022368Z"
    }
   },
   "outputs": [
    {
     "name": "stdout",
     "output_type": "stream",
     "text": [
      "Model coefficients:\n",
      "\n",
      "leg_fatigue = 0.0\n",
      "total_fatigue = -0.0029\n",
      "nsaids = 0.0\n",
      "colageno = 0.0\n",
      "knee_intensity_CF = 0.098\n",
      "knee_intensity_CF_lag_1 = -0.0\n",
      "knee_intensity_CF_lag_2 = 0.0219\n",
      "knee_intensity_CF_lag_3 = 0.0\n",
      "knee_intensity_kite = 0.0073\n",
      "knee_intensity_kite_lag_1 = -0.0139\n",
      "knee_intensity_kite_lag_2 = -0.0\n",
      "knee_intensity_kite_lag_3 = -0.0013\n",
      "knee_intensity_other = 0.0003\n",
      "knee_intensity_other_lag_1 = -0.0\n",
      "knee_intensity_other_lag_2 = -0.0\n",
      "knee_intensity_other_lag_3 = 0.0\n"
     ]
    }
   ],
   "source": [
    "print(\"Model coefficients:\\n\")\n",
    "for i in range(X_tr.shape[1]):\n",
    "    print(X_tr.columns[i], \"=\", clf.coef_[i].round(4))"
   ]
  },
  {
   "cell_type": "markdown",
   "metadata": {},
   "source": [
    "### Decision tree"
   ]
  },
  {
   "cell_type": "code",
   "execution_count": 56,
   "metadata": {
    "ExecuteTime": {
     "end_time": "2021-09-11T20:50:36.047000Z",
     "start_time": "2021-09-11T20:50:36.034160Z"
    }
   },
   "outputs": [
    {
     "data": {
      "text/plain": [
       "DecisionTreeRegressor(criterion='mae', max_depth=3, min_samples_leaf=2)"
      ]
     },
     "execution_count": 56,
     "metadata": {},
     "output_type": "execute_result"
    }
   ],
   "source": [
    "dt = DecisionTreeRegressor(max_depth=3, min_samples_leaf=2, criterion=\"mae\")\n",
    "dt.fit(X_tr, y_tr)"
   ]
  },
  {
   "cell_type": "code",
   "execution_count": 57,
   "metadata": {
    "ExecuteTime": {
     "end_time": "2021-09-11T20:50:36.052733Z",
     "start_time": "2021-09-11T20:50:36.049660Z"
    }
   },
   "outputs": [
    {
     "name": "stdout",
     "output_type": "stream",
     "text": [
      "Decision Tree Results\n"
     ]
    }
   ],
   "source": [
    "print(\"Decision Tree Results\")"
   ]
  },
  {
   "cell_type": "code",
   "execution_count": 58,
   "metadata": {
    "ExecuteTime": {
     "end_time": "2021-09-11T20:50:36.062541Z",
     "start_time": "2021-09-11T20:50:36.055182Z"
    }
   },
   "outputs": [
    {
     "name": "stdout",
     "output_type": "stream",
     "text": [
      "Train  0.6174496644295302\n"
     ]
    }
   ],
   "source": [
    "print(\"Train \", mean_absolute_error(dt.predict(X_tr), y_tr))"
   ]
  },
  {
   "cell_type": "code",
   "execution_count": 59,
   "metadata": {
    "ExecuteTime": {
     "end_time": "2021-09-11T20:50:36.073084Z",
     "start_time": "2021-09-11T20:50:36.064934Z"
    }
   },
   "outputs": [
    {
     "name": "stdout",
     "output_type": "stream",
     "text": [
      "Test  0.5789473684210527\n"
     ]
    }
   ],
   "source": [
    "print(\"Test \", mean_absolute_error(dt.predict(X_te), y_te))"
   ]
  },
  {
   "cell_type": "code",
   "execution_count": 60,
   "metadata": {
    "ExecuteTime": {
     "end_time": "2021-09-11T20:50:36.977935Z",
     "start_time": "2021-09-11T20:50:36.075683Z"
    }
   },
   "outputs": [
    {
     "data": {
      "image/png": "[encoded data removed]",
      "text/plain": [
       "<Figure size 1152x576 with 1 Axes>"
      ]
     },
     "metadata": {},
     "output_type": "display_data"
    }
   ],
   "source": [
    "plt.figure()\n",
    "plot_tree(dt, feature_names=X_te.columns, filled=True)\n",
    "plt.savefig(\"images/dt_shift.svg\", format=\"svg\")"
   ]
  },
  {
   "cell_type": "markdown",
   "metadata": {},
   "source": [
    "### Random Forest"
   ]
  },
  {
   "cell_type": "code",
   "execution_count": 61,
   "metadata": {
    "ExecuteTime": {
     "end_time": "2021-09-11T20:50:37.093466Z",
     "start_time": "2021-09-11T20:50:36.980699Z"
    }
   },
   "outputs": [
    {
     "data": {
      "text/plain": [
       "RandomForestRegressor(min_samples_leaf=3)"
      ]
     },
     "execution_count": 61,
     "metadata": {},
     "output_type": "execute_result"
    }
   ],
   "source": [
    "rf = RandomForestRegressor(min_samples_leaf=3)\n",
    "rf.fit(X_tr, y_tr)"
   ]
  },
  {
   "cell_type": "code",
   "execution_count": 62,
   "metadata": {
    "ExecuteTime": {
     "end_time": "2021-09-11T20:50:37.099849Z",
     "start_time": "2021-09-11T20:50:37.095537Z"
    }
   },
   "outputs": [
    {
     "name": "stdout",
     "output_type": "stream",
     "text": [
      "RF results\n"
     ]
    }
   ],
   "source": [
    "print(\"RF results\")"
   ]
  },
  {
   "cell_type": "code",
   "execution_count": 63,
   "metadata": {
    "ExecuteTime": {
     "end_time": "2021-09-11T20:50:37.118675Z",
     "start_time": "2021-09-11T20:50:37.102567Z"
    }
   },
   "outputs": [
    {
     "name": "stdout",
     "output_type": "stream",
     "text": [
      "Train 0.5084712397036223\n"
     ]
    }
   ],
   "source": [
    "print(\"Train\", mean_absolute_error(rf.predict(X_tr), y_tr))"
   ]
  },
  {
   "cell_type": "code",
   "execution_count": 64,
   "metadata": {
    "ExecuteTime": {
     "end_time": "2021-09-11T20:50:37.136858Z",
     "start_time": "2021-09-11T20:50:37.121196Z"
    }
   },
   "outputs": [
    {
     "name": "stdout",
     "output_type": "stream",
     "text": [
      "Test 0.6794124811591917\n"
     ]
    }
   ],
   "source": [
    "print(\"Test\", mean_absolute_error(rf.predict(X_te), y_te))"
   ]
  },
  {
   "cell_type": "markdown",
   "metadata": {},
   "source": [
    "### Xgboost"
   ]
  },
  {
   "cell_type": "code",
   "execution_count": 65,
   "metadata": {
    "ExecuteTime": {
     "end_time": "2021-09-11T20:50:37.209044Z",
     "start_time": "2021-09-11T20:50:37.139568Z"
    }
   },
   "outputs": [
    {
     "name": "stdout",
     "output_type": "stream",
     "text": [
      "XGB Results\n",
      "Train  0.48801766543792896\n"
     ]
    }
   ],
   "source": [
    "xgb = XGBRFRegressor().fit(X_tr, y_tr)\n",
    "print(\"XGB Results\")\n",
    "print(\"Train \", mean_absolute_error(xgb.predict(X_tr), y_tr))"
   ]
  },
  {
   "cell_type": "code",
   "execution_count": 66,
   "metadata": {
    "ExecuteTime": {
     "end_time": "2021-09-11T20:50:37.222374Z",
     "start_time": "2021-09-11T20:50:37.212160Z"
    }
   },
   "outputs": [
    {
     "name": "stdout",
     "output_type": "stream",
     "text": [
      "Test  0.7011340710849158\n"
     ]
    }
   ],
   "source": [
    "print(\"Test \", mean_absolute_error(xgb.predict(X_te), y_te))"
   ]
  },
  {
   "cell_type": "code",
   "execution_count": 67,
   "metadata": {
    "ExecuteTime": {
     "end_time": "2021-09-11T20:50:38.176980Z",
     "start_time": "2021-09-11T20:50:37.235760Z"
    }
   },
   "outputs": [
    {
     "data": {
      "image/png": "[encoded data removed]",
      "text/plain": [
       "<Figure size 576x468 with 3 Axes>"
      ]
     },
     "metadata": {},
     "output_type": "display_data"
    }
   ],
   "source": [
    "explainer = shap.Explainer(xgb)\n",
    "shap_values = explainer(X_tr)"
   ]
  },
  {
   "cell_type": "code",
   "execution_count": 68,
   "metadata": {
    "ExecuteTime": {
     "end_time": "2021-09-11T20:50:38.811208Z",
     "start_time": "2021-09-11T20:50:38.179854Z"
    }
   },
   "outputs": [
    {
     "data": {
      "image/png": "[encoded data removed]",
      "text/plain": [
       "<Figure size 576x568.8 with 2 Axes>"
      ]
     },
     "metadata": {},
     "output_type": "display_data"
    }
   ],
   "source": [
    "shap.summary_plot(shap_values, X_tr, show=False)\n",
    "plt.savefig(\"images/summary_shap.png\")"
   ]
  },
  {
   "cell_type": "code",
   "execution_count": 69,
   "metadata": {
    "ExecuteTime": {
     "end_time": "2021-09-11T20:50:39.151385Z",
     "start_time": "2021-09-11T20:50:38.814240Z"
    }
   },
   "outputs": [
    {
     "data": {
      "image/png": "[encoded data removed]",
      "text/plain": [
       "<Figure size 576x468 with 1 Axes>"
      ]
     },
     "metadata": {},
     "output_type": "display_data"
    }
   ],
   "source": [
    "shap.plots.bar(shap_values, show=False)\n",
    "plt.savefig(\"images/global_shap.png\")"
   ]
  },
  {
   "cell_type": "code",
   "execution_count": null,
   "metadata": {},
   "outputs": [],
   "source": []
  }
 ],
 "metadata": {
  "kernelspec": {
   "display_name": "knee",
   "language": "python",
   "name": "knee"
  },
  "language_info": {
   "codemirror_mode": {
    "name": "ipython",
    "version": 3
   },
   "file_extension": ".py",
   "mimetype": "text/x-python",
   "name": "python",
   "nbconvert_exporter": "python",
   "pygments_lexer": "ipython3",
   "version": "3.9.2"
  }
 },
 "nbformat": 4,
 "nbformat_minor": 4
}
