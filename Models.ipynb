{
 "cells": [
  {
   "cell_type": "markdown",
   "metadata": {},
   "source": [
    "#### Libraries and loading"
   ]
  },
  {
   "cell_type": "raw",
   "metadata": {
    "ExecuteTime": {
     "end_time": "2021-09-11T20:50:31.847831Z",
     "start_time": "2021-09-11T20:50:31.834726Z"
    }
   },
   "source": [
    "#%%javascript\n",
    "#utils.load_extension(\"execute_time/ExecuteTime\")\n",
    "#utils.load_extension(\"collapsible_headings/main\")"
   ]
  },
  {
   "cell_type": "code",
   "execution_count": 1,
   "metadata": {
    "ExecuteTime": {
     "end_time": "2021-09-11T21:01:03.709889Z",
     "start_time": "2021-09-11T21:01:02.452054Z"
    }
   },
   "outputs": [],
   "source": [
    "import numpy as np\n",
    "import pandas as pd\n",
    "import warnings\n",
    "import matplotlib.pyplot as plt\n",
    "from matplotlib import rcParams\n",
    "import seaborn as sns\n",
    "\n",
    "plt.style.use(\"seaborn-whitegrid\")\n",
    "sns.set(style=\"whitegrid\", color_codes=True)\n",
    "\n",
    "\n",
    "rcParams[\"axes.labelsize\"] = 14\n",
    "rcParams[\"xtick.labelsize\"] = 12\n",
    "rcParams[\"ytick.labelsize\"] = 12\n",
    "rcParams[\"figure.figsize\"] = 16, 8\n",
    "\n",
    "warnings.filterwarnings(\"ignore\")"
   ]
  },
  {
   "cell_type": "code",
   "execution_count": 2,
   "metadata": {
    "ExecuteTime": {
     "end_time": "2021-09-11T21:01:03.787539Z",
     "start_time": "2021-09-11T21:01:03.720105Z"
    }
   },
   "outputs": [],
   "source": [
    "pain = pd.read_csv(\"data/pain.csv\").drop(columns=\"Unnamed: 6\")\n",
    "pain.columns = pain.columns.str.replace(\" \", \"\")\n",
    "pain[\"date\"] = pd.to_datetime(pain[\"date\"], dayfirst=True)  # .dt.strftime('%d/%m/%Y')\n",
    "pain = pain.set_index(\"date\")"
   ]
  },
  {
   "cell_type": "code",
   "execution_count": 3,
   "metadata": {
    "ExecuteTime": {
     "end_time": "2021-09-11T21:01:03.853117Z",
     "start_time": "2021-09-11T21:01:03.799015Z"
    }
   },
   "outputs": [],
   "source": [
    "sports = pd.read_csv(\"data/sport.csv\")\n",
    "sports.columns = sports.columns.str.replace(\" \", \"\")\n",
    "sports[\"date\"] = pd.to_datetime(sports[\"date\"], dayfirst=True)\n",
    "sports[\"sport\"] = sports[\"sport\"].str.strip()\n",
    "sports = sports.set_index(\"date\")"
   ]
  },
  {
   "cell_type": "code",
   "execution_count": 4,
   "metadata": {
    "ExecuteTime": {
     "end_time": "2021-09-11T21:01:03.873308Z",
     "start_time": "2021-09-11T21:01:03.861397Z"
    }
   },
   "outputs": [
    {
     "data": {
      "text/plain": [
       "(177, 5)"
      ]
     },
     "execution_count": 4,
     "metadata": {},
     "output_type": "execute_result"
    }
   ],
   "source": [
    "pain.shape"
   ]
  },
  {
   "cell_type": "code",
   "execution_count": null,
   "metadata": {},
   "outputs": [],
   "source": []
  },
  {
   "cell_type": "markdown",
   "metadata": {
    "heading_collapsed": true
   },
   "source": [
    "# Data Engineering"
   ]
  },
  {
   "cell_type": "markdown",
   "metadata": {
    "heading_collapsed": true,
    "hidden": true
   },
   "source": [
    "## Crossfit"
   ]
  },
  {
   "cell_type": "code",
   "execution_count": 5,
   "metadata": {
    "ExecuteTime": {
     "end_time": "2021-09-11T21:01:03.926734Z",
     "start_time": "2021-09-11T21:01:03.886789Z"
    },
    "hidden": true
   },
   "outputs": [],
   "source": [
    "cf = sports.reset_index().groupby([\"date\", \"sport\"]).sum().reset_index()\n",
    "cf = cf[cf.sport == \"CF\"]"
   ]
  },
  {
   "cell_type": "code",
   "execution_count": 6,
   "metadata": {
    "ExecuteTime": {
     "end_time": "2021-09-11T21:01:03.942479Z",
     "start_time": "2021-09-11T21:01:03.933871Z"
    },
    "hidden": true
   },
   "outputs": [],
   "source": [
    "cf.columns = [\"date\", \"sport\", \"total_intensity_CF\", \"knee_intensity_CF\", \"time\"]"
   ]
  },
  {
   "cell_type": "code",
   "execution_count": 7,
   "metadata": {
    "ExecuteTime": {
     "end_time": "2021-09-11T21:01:03.963393Z",
     "start_time": "2021-09-11T21:01:03.950368Z"
    },
    "hidden": true
   },
   "outputs": [],
   "source": [
    "df = pain.join(cf.set_index(\"date\").knee_intensity_CF)"
   ]
  },
  {
   "cell_type": "code",
   "execution_count": 8,
   "metadata": {
    "ExecuteTime": {
     "end_time": "2021-09-11T21:01:03.988600Z",
     "start_time": "2021-09-11T21:01:03.980279Z"
    },
    "hidden": true
   },
   "outputs": [],
   "source": [
    "df.fillna(0, inplace=True)"
   ]
  },
  {
   "cell_type": "code",
   "execution_count": 9,
   "metadata": {
    "ExecuteTime": {
     "end_time": "2021-09-11T21:01:04.084324Z",
     "start_time": "2021-09-11T21:01:04.016773Z"
    },
    "hidden": true
   },
   "outputs": [],
   "source": [
    "df[\"knee_intensity_CF_lag_1\"] = df.knee_intensity_CF.shift(1)\n",
    "df[\"knee_intensity_CF_lag_2\"] = df.knee_intensity_CF.shift(2)\n",
    "df[\"knee_intensity_CF_lag_3\"] = df.knee_intensity_CF.shift(3)"
   ]
  },
  {
   "cell_type": "code",
   "execution_count": 10,
   "metadata": {
    "ExecuteTime": {
     "end_time": "2021-09-11T21:01:04.149866Z",
     "start_time": "2021-09-11T21:01:04.137112Z"
    },
    "hidden": true
   },
   "outputs": [],
   "source": [
    "df.fillna(0, inplace=True)"
   ]
  },
  {
   "cell_type": "markdown",
   "metadata": {
    "heading_collapsed": true,
    "hidden": true
   },
   "source": [
    "## Kite"
   ]
  },
  {
   "cell_type": "code",
   "execution_count": 11,
   "metadata": {
    "ExecuteTime": {
     "end_time": "2021-09-11T21:01:04.178620Z",
     "start_time": "2021-09-11T21:01:04.154936Z"
    },
    "hidden": true
   },
   "outputs": [],
   "source": [
    "kite = sports.reset_index().groupby([\"date\", \"sport\"]).sum().reset_index()\n",
    "kite = kite[kite.sport == \"Kite\"]"
   ]
  },
  {
   "cell_type": "code",
   "execution_count": 12,
   "metadata": {
    "ExecuteTime": {
     "end_time": "2021-09-11T21:01:04.191289Z",
     "start_time": "2021-09-11T21:01:04.184038Z"
    },
    "hidden": true
   },
   "outputs": [],
   "source": [
    "kite.columns = [\"date\", \"sport\", \"total_intensity_kite\", \"knee_intensity_kite\", \"time\"]"
   ]
  },
  {
   "cell_type": "code",
   "execution_count": 13,
   "metadata": {
    "ExecuteTime": {
     "end_time": "2021-09-11T21:01:04.220449Z",
     "start_time": "2021-09-11T21:01:04.203281Z"
    },
    "hidden": true
   },
   "outputs": [],
   "source": [
    "df = df.join(kite.set_index(\"date\").knee_intensity_kite)"
   ]
  },
  {
   "cell_type": "code",
   "execution_count": 14,
   "metadata": {
    "ExecuteTime": {
     "end_time": "2021-09-11T21:01:04.272363Z",
     "start_time": "2021-09-11T21:01:04.255030Z"
    },
    "hidden": true
   },
   "outputs": [],
   "source": [
    "df.fillna(0, inplace=True)"
   ]
  },
  {
   "cell_type": "code",
   "execution_count": 15,
   "metadata": {
    "ExecuteTime": {
     "end_time": "2021-09-11T21:01:04.318194Z",
     "start_time": "2021-09-11T21:01:04.286330Z"
    },
    "hidden": true
   },
   "outputs": [],
   "source": [
    "df[\"knee_intensity_kite_lag_1\"] = df.knee_intensity_kite.shift(1)\n",
    "df[\"knee_intensity_kite_lag_2\"] = df.knee_intensity_kite.shift(2)\n",
    "df[\"knee_intensity_kite_lag_3\"] = df.knee_intensity_kite.shift(3)"
   ]
  },
  {
   "cell_type": "code",
   "execution_count": 16,
   "metadata": {
    "ExecuteTime": {
     "end_time": "2021-09-11T21:01:04.328945Z",
     "start_time": "2021-09-11T21:01:04.322555Z"
    },
    "hidden": true
   },
   "outputs": [],
   "source": [
    "df.fillna(0, inplace=True)"
   ]
  },
  {
   "cell_type": "code",
   "execution_count": 17,
   "metadata": {
    "ExecuteTime": {
     "end_time": "2021-09-11T21:01:04.375940Z",
     "start_time": "2021-09-11T21:01:04.336605Z"
    },
    "hidden": true
   },
   "outputs": [
    {
     "data": {
      "text/html": [
       "<div>\n",
       "<style scoped>\n",
       "    .dataframe tbody tr th:only-of-type {\n",
       "        vertical-align: middle;\n",
       "    }\n",
       "\n",
       "    .dataframe tbody tr th {\n",
       "        vertical-align: top;\n",
       "    }\n",
       "\n",
       "    .dataframe thead th {\n",
       "        text-align: right;\n",
       "    }\n",
       "</style>\n",
       "<table border=\"1\" class=\"dataframe\">\n",
       "  <thead>\n",
       "    <tr style=\"text-align: right;\">\n",
       "      <th></th>\n",
       "      <th>pain</th>\n",
       "      <th>leg_fatigue</th>\n",
       "      <th>total_fatigue</th>\n",
       "      <th>nsaids</th>\n",
       "      <th>colageno</th>\n",
       "      <th>knee_intensity_CF</th>\n",
       "      <th>knee_intensity_CF_lag_1</th>\n",
       "      <th>knee_intensity_CF_lag_2</th>\n",
       "      <th>knee_intensity_CF_lag_3</th>\n",
       "      <th>knee_intensity_kite</th>\n",
       "      <th>knee_intensity_kite_lag_1</th>\n",
       "      <th>knee_intensity_kite_lag_2</th>\n",
       "      <th>knee_intensity_kite_lag_3</th>\n",
       "    </tr>\n",
       "    <tr>\n",
       "      <th>date</th>\n",
       "      <th></th>\n",
       "      <th></th>\n",
       "      <th></th>\n",
       "      <th></th>\n",
       "      <th></th>\n",
       "      <th></th>\n",
       "      <th></th>\n",
       "      <th></th>\n",
       "      <th></th>\n",
       "      <th></th>\n",
       "      <th></th>\n",
       "      <th></th>\n",
       "      <th></th>\n",
       "    </tr>\n",
       "  </thead>\n",
       "  <tbody>\n",
       "    <tr>\n",
       "      <th>2021-03-27</th>\n",
       "      <td>4.0</td>\n",
       "      <td>2</td>\n",
       "      <td>2</td>\n",
       "      <td>False</td>\n",
       "      <td>False</td>\n",
       "      <td>10.0</td>\n",
       "      <td>0.0</td>\n",
       "      <td>0.0</td>\n",
       "      <td>0.0</td>\n",
       "      <td>0.0</td>\n",
       "      <td>0.0</td>\n",
       "      <td>0.0</td>\n",
       "      <td>0.0</td>\n",
       "    </tr>\n",
       "    <tr>\n",
       "      <th>2021-03-28</th>\n",
       "      <td>7.0</td>\n",
       "      <td>10</td>\n",
       "      <td>10</td>\n",
       "      <td>False</td>\n",
       "      <td>False</td>\n",
       "      <td>0.0</td>\n",
       "      <td>10.0</td>\n",
       "      <td>0.0</td>\n",
       "      <td>0.0</td>\n",
       "      <td>0.0</td>\n",
       "      <td>0.0</td>\n",
       "      <td>0.0</td>\n",
       "      <td>0.0</td>\n",
       "    </tr>\n",
       "    <tr>\n",
       "      <th>2021-03-29</th>\n",
       "      <td>6.0</td>\n",
       "      <td>8</td>\n",
       "      <td>8</td>\n",
       "      <td>False</td>\n",
       "      <td>False</td>\n",
       "      <td>0.0</td>\n",
       "      <td>0.0</td>\n",
       "      <td>10.0</td>\n",
       "      <td>0.0</td>\n",
       "      <td>0.0</td>\n",
       "      <td>0.0</td>\n",
       "      <td>0.0</td>\n",
       "      <td>0.0</td>\n",
       "    </tr>\n",
       "    <tr>\n",
       "      <th>2021-03-30</th>\n",
       "      <td>5.0</td>\n",
       "      <td>6</td>\n",
       "      <td>6</td>\n",
       "      <td>False</td>\n",
       "      <td>False</td>\n",
       "      <td>0.0</td>\n",
       "      <td>0.0</td>\n",
       "      <td>0.0</td>\n",
       "      <td>10.0</td>\n",
       "      <td>0.0</td>\n",
       "      <td>0.0</td>\n",
       "      <td>0.0</td>\n",
       "      <td>0.0</td>\n",
       "    </tr>\n",
       "    <tr>\n",
       "      <th>2021-03-31</th>\n",
       "      <td>3.0</td>\n",
       "      <td>3</td>\n",
       "      <td>4</td>\n",
       "      <td>False</td>\n",
       "      <td>False</td>\n",
       "      <td>0.0</td>\n",
       "      <td>0.0</td>\n",
       "      <td>0.0</td>\n",
       "      <td>0.0</td>\n",
       "      <td>0.0</td>\n",
       "      <td>0.0</td>\n",
       "      <td>0.0</td>\n",
       "      <td>0.0</td>\n",
       "    </tr>\n",
       "    <tr>\n",
       "      <th>...</th>\n",
       "      <td>...</td>\n",
       "      <td>...</td>\n",
       "      <td>...</td>\n",
       "      <td>...</td>\n",
       "      <td>...</td>\n",
       "      <td>...</td>\n",
       "      <td>...</td>\n",
       "      <td>...</td>\n",
       "      <td>...</td>\n",
       "      <td>...</td>\n",
       "      <td>...</td>\n",
       "      <td>...</td>\n",
       "      <td>...</td>\n",
       "    </tr>\n",
       "    <tr>\n",
       "      <th>2021-09-15</th>\n",
       "      <td>1.0</td>\n",
       "      <td>0</td>\n",
       "      <td>2</td>\n",
       "      <td>False</td>\n",
       "      <td>False</td>\n",
       "      <td>0.0</td>\n",
       "      <td>0.0</td>\n",
       "      <td>3.0</td>\n",
       "      <td>0.0</td>\n",
       "      <td>0.0</td>\n",
       "      <td>0.0</td>\n",
       "      <td>0.0</td>\n",
       "      <td>0.0</td>\n",
       "    </tr>\n",
       "    <tr>\n",
       "      <th>2021-09-16</th>\n",
       "      <td>1.0</td>\n",
       "      <td>0</td>\n",
       "      <td>0</td>\n",
       "      <td>False</td>\n",
       "      <td>False</td>\n",
       "      <td>0.0</td>\n",
       "      <td>0.0</td>\n",
       "      <td>0.0</td>\n",
       "      <td>3.0</td>\n",
       "      <td>0.0</td>\n",
       "      <td>0.0</td>\n",
       "      <td>0.0</td>\n",
       "      <td>0.0</td>\n",
       "    </tr>\n",
       "    <tr>\n",
       "      <th>2021-09-17</th>\n",
       "      <td>0.0</td>\n",
       "      <td>0</td>\n",
       "      <td>2</td>\n",
       "      <td>False</td>\n",
       "      <td>False</td>\n",
       "      <td>5.0</td>\n",
       "      <td>0.0</td>\n",
       "      <td>0.0</td>\n",
       "      <td>0.0</td>\n",
       "      <td>0.0</td>\n",
       "      <td>0.0</td>\n",
       "      <td>0.0</td>\n",
       "      <td>0.0</td>\n",
       "    </tr>\n",
       "    <tr>\n",
       "      <th>2021-09-18</th>\n",
       "      <td>1.0</td>\n",
       "      <td>1</td>\n",
       "      <td>5</td>\n",
       "      <td>False</td>\n",
       "      <td>False</td>\n",
       "      <td>0.0</td>\n",
       "      <td>5.0</td>\n",
       "      <td>0.0</td>\n",
       "      <td>0.0</td>\n",
       "      <td>0.0</td>\n",
       "      <td>0.0</td>\n",
       "      <td>0.0</td>\n",
       "      <td>0.0</td>\n",
       "    </tr>\n",
       "    <tr>\n",
       "      <th>2021-09-19</th>\n",
       "      <td>1.0</td>\n",
       "      <td>1</td>\n",
       "      <td>4</td>\n",
       "      <td>False</td>\n",
       "      <td>False</td>\n",
       "      <td>0.0</td>\n",
       "      <td>0.0</td>\n",
       "      <td>5.0</td>\n",
       "      <td>0.0</td>\n",
       "      <td>0.0</td>\n",
       "      <td>0.0</td>\n",
       "      <td>0.0</td>\n",
       "      <td>0.0</td>\n",
       "    </tr>\n",
       "  </tbody>\n",
       "</table>\n",
       "<p>177 rows × 13 columns</p>\n",
       "</div>"
      ],
      "text/plain": [
       "            pain  leg_fatigue  total_fatigue  nsaids colageno  \\\n",
       "date                                                            \n",
       "2021-03-27   4.0            2              2   False    False   \n",
       "2021-03-28   7.0           10             10   False    False   \n",
       "2021-03-29   6.0            8              8   False    False   \n",
       "2021-03-30   5.0            6              6   False    False   \n",
       "2021-03-31   3.0            3              4   False    False   \n",
       "...          ...          ...            ...     ...      ...   \n",
       "2021-09-15   1.0            0              2   False    False   \n",
       "2021-09-16   1.0            0              0   False    False   \n",
       "2021-09-17   0.0            0              2   False    False   \n",
       "2021-09-18   1.0            1              5   False    False   \n",
       "2021-09-19   1.0            1              4   False    False   \n",
       "\n",
       "            knee_intensity_CF  knee_intensity_CF_lag_1  \\\n",
       "date                                                     \n",
       "2021-03-27               10.0                      0.0   \n",
       "2021-03-28                0.0                     10.0   \n",
       "2021-03-29                0.0                      0.0   \n",
       "2021-03-30                0.0                      0.0   \n",
       "2021-03-31                0.0                      0.0   \n",
       "...                       ...                      ...   \n",
       "2021-09-15                0.0                      0.0   \n",
       "2021-09-16                0.0                      0.0   \n",
       "2021-09-17                5.0                      0.0   \n",
       "2021-09-18                0.0                      5.0   \n",
       "2021-09-19                0.0                      0.0   \n",
       "\n",
       "            knee_intensity_CF_lag_2  knee_intensity_CF_lag_3  \\\n",
       "date                                                           \n",
       "2021-03-27                      0.0                      0.0   \n",
       "2021-03-28                      0.0                      0.0   \n",
       "2021-03-29                     10.0                      0.0   \n",
       "2021-03-30                      0.0                     10.0   \n",
       "2021-03-31                      0.0                      0.0   \n",
       "...                             ...                      ...   \n",
       "2021-09-15                      3.0                      0.0   \n",
       "2021-09-16                      0.0                      3.0   \n",
       "2021-09-17                      0.0                      0.0   \n",
       "2021-09-18                      0.0                      0.0   \n",
       "2021-09-19                      5.0                      0.0   \n",
       "\n",
       "            knee_intensity_kite  knee_intensity_kite_lag_1  \\\n",
       "date                                                         \n",
       "2021-03-27                  0.0                        0.0   \n",
       "2021-03-28                  0.0                        0.0   \n",
       "2021-03-29                  0.0                        0.0   \n",
       "2021-03-30                  0.0                        0.0   \n",
       "2021-03-31                  0.0                        0.0   \n",
       "...                         ...                        ...   \n",
       "2021-09-15                  0.0                        0.0   \n",
       "2021-09-16                  0.0                        0.0   \n",
       "2021-09-17                  0.0                        0.0   \n",
       "2021-09-18                  0.0                        0.0   \n",
       "2021-09-19                  0.0                        0.0   \n",
       "\n",
       "            knee_intensity_kite_lag_2  knee_intensity_kite_lag_3  \n",
       "date                                                              \n",
       "2021-03-27                        0.0                        0.0  \n",
       "2021-03-28                        0.0                        0.0  \n",
       "2021-03-29                        0.0                        0.0  \n",
       "2021-03-30                        0.0                        0.0  \n",
       "2021-03-31                        0.0                        0.0  \n",
       "...                               ...                        ...  \n",
       "2021-09-15                        0.0                        0.0  \n",
       "2021-09-16                        0.0                        0.0  \n",
       "2021-09-17                        0.0                        0.0  \n",
       "2021-09-18                        0.0                        0.0  \n",
       "2021-09-19                        0.0                        0.0  \n",
       "\n",
       "[177 rows x 13 columns]"
      ]
     },
     "execution_count": 17,
     "metadata": {},
     "output_type": "execute_result"
    }
   ],
   "source": [
    "df"
   ]
  },
  {
   "cell_type": "markdown",
   "metadata": {
    "heading_collapsed": true,
    "hidden": true
   },
   "source": [
    "## Others"
   ]
  },
  {
   "cell_type": "code",
   "execution_count": 18,
   "metadata": {
    "ExecuteTime": {
     "end_time": "2021-09-11T21:01:04.395636Z",
     "start_time": "2021-09-11T21:01:04.380177Z"
    },
    "hidden": true
   },
   "outputs": [],
   "source": [
    "aux = sports.reset_index().groupby([\"date\", \"sport\"]).sum().reset_index()\n",
    "aux = aux[(aux.sport != \"CF\") & (aux.sport != \"Kite\")]"
   ]
  },
  {
   "cell_type": "code",
   "execution_count": 19,
   "metadata": {
    "ExecuteTime": {
     "end_time": "2021-09-11T21:01:04.401525Z",
     "start_time": "2021-09-11T21:01:04.398018Z"
    },
    "hidden": true
   },
   "outputs": [],
   "source": [
    "aux.columns = [\"date\", \"sport\", \"total_intensity_other\", \"knee_intensity_other\", \"time\"]"
   ]
  },
  {
   "cell_type": "code",
   "execution_count": 20,
   "metadata": {
    "ExecuteTime": {
     "end_time": "2021-09-11T21:01:04.409204Z",
     "start_time": "2021-09-11T21:01:04.403501Z"
    },
    "hidden": true
   },
   "outputs": [],
   "source": [
    "df = df.join(aux.set_index(\"date\").knee_intensity_other)"
   ]
  },
  {
   "cell_type": "code",
   "execution_count": 21,
   "metadata": {
    "ExecuteTime": {
     "end_time": "2021-09-11T21:01:04.415409Z",
     "start_time": "2021-09-11T21:01:04.411401Z"
    },
    "hidden": true
   },
   "outputs": [],
   "source": [
    "df.fillna(0, inplace=True)"
   ]
  },
  {
   "cell_type": "code",
   "execution_count": 22,
   "metadata": {
    "ExecuteTime": {
     "end_time": "2021-09-11T21:01:04.424285Z",
     "start_time": "2021-09-11T21:01:04.417376Z"
    },
    "hidden": true
   },
   "outputs": [],
   "source": [
    "df[\"knee_intensity_other_lag_1\"] = df.knee_intensity_other.shift(1)\n",
    "df[\"knee_intensity_other_lag_2\"] = df.knee_intensity_other.shift(2)\n",
    "df[\"knee_intensity_other_lag_3\"] = df.knee_intensity_other.shift(3)"
   ]
  },
  {
   "cell_type": "code",
   "execution_count": 23,
   "metadata": {
    "ExecuteTime": {
     "end_time": "2021-09-11T21:01:04.434863Z",
     "start_time": "2021-09-11T21:01:04.431333Z"
    },
    "hidden": true
   },
   "outputs": [],
   "source": [
    "df.fillna(0, inplace=True)"
   ]
  },
  {
   "cell_type": "markdown",
   "metadata": {},
   "source": [
    "# Modeling"
   ]
  },
  {
   "cell_type": "markdown",
   "metadata": {
    "heading_collapsed": true
   },
   "source": [
    "## Predict the same day"
   ]
  },
  {
   "cell_type": "code",
   "execution_count": 24,
   "metadata": {
    "ExecuteTime": {
     "end_time": "2021-09-11T21:01:05.208936Z",
     "start_time": "2021-09-11T21:01:04.439646Z"
    },
    "hidden": true
   },
   "outputs": [],
   "source": [
    "from sklearn.model_selection import train_test_split\n",
    "from sklearn.metrics import mean_absolute_error\n",
    "\n",
    "import shap\n",
    "from sklearn.linear_model import Lasso\n",
    "from sklearn.tree import DecisionTreeRegressor, plot_tree\n",
    "from sklearn.ensemble import RandomForestRegressor\n",
    "from xgboost import XGBRFRegressor"
   ]
  },
  {
   "cell_type": "code",
   "execution_count": 25,
   "metadata": {
    "ExecuteTime": {
     "end_time": "2021-09-11T21:01:05.217533Z",
     "start_time": "2021-09-11T21:01:05.211019Z"
    },
    "hidden": true,
    "scrolled": false
   },
   "outputs": [],
   "source": [
    "df = df.reset_index(drop=True)"
   ]
  },
  {
   "cell_type": "code",
   "execution_count": 26,
   "metadata": {
    "ExecuteTime": {
     "end_time": "2021-09-11T21:01:05.235620Z",
     "start_time": "2021-09-11T21:01:05.222079Z"
    },
    "hidden": true
   },
   "outputs": [],
   "source": [
    "df.nsaids = df.nsaids.astype(bool)"
   ]
  },
  {
   "cell_type": "code",
   "execution_count": 27,
   "metadata": {
    "ExecuteTime": {
     "end_time": "2021-09-11T21:01:05.247406Z",
     "start_time": "2021-09-11T21:01:05.238377Z"
    },
    "hidden": true
   },
   "outputs": [],
   "source": [
    "df.colageno = df.colageno.astype(bool)"
   ]
  },
  {
   "cell_type": "code",
   "execution_count": 28,
   "metadata": {
    "ExecuteTime": {
     "end_time": "2021-09-11T21:01:05.265195Z",
     "start_time": "2021-09-11T21:01:05.250382Z"
    },
    "hidden": true
   },
   "outputs": [],
   "source": [
    "X_tr, X_te, y_tr, y_te = train_test_split(\n",
    "    df.drop(columns=\"pain\"), df[[\"pain\"]], test_size=0.2, random_state=42\n",
    ")"
   ]
  },
  {
   "cell_type": "markdown",
   "metadata": {
    "hidden": true
   },
   "source": [
    "### Dummy"
   ]
  },
  {
   "cell_type": "code",
   "execution_count": 29,
   "metadata": {
    "ExecuteTime": {
     "end_time": "2021-09-11T21:01:05.280049Z",
     "start_time": "2021-09-11T21:01:05.270267Z"
    },
    "hidden": true
   },
   "outputs": [
    {
     "data": {
      "text/plain": [
       "0.9564842209072978"
      ]
     },
     "execution_count": 29,
     "metadata": {},
     "output_type": "execute_result"
    }
   ],
   "source": [
    "mean_absolute_error(np.zeros_like(y_tr) + np.mean(y_tr).values, y_tr)"
   ]
  },
  {
   "cell_type": "code",
   "execution_count": 30,
   "metadata": {
    "ExecuteTime": {
     "end_time": "2021-09-11T21:01:05.289830Z",
     "start_time": "2021-09-11T21:01:05.283324Z"
    },
    "hidden": true
   },
   "outputs": [
    {
     "data": {
      "text/plain": [
       "0.7350000000000001"
      ]
     },
     "execution_count": 30,
     "metadata": {},
     "output_type": "execute_result"
    }
   ],
   "source": [
    "mean_absolute_error(np.zeros_like(y_te) + np.mean(y_te).values, y_te)"
   ]
  },
  {
   "cell_type": "markdown",
   "metadata": {
    "hidden": true
   },
   "source": [
    "### Lasso"
   ]
  },
  {
   "cell_type": "code",
   "execution_count": 31,
   "metadata": {
    "ExecuteTime": {
     "end_time": "2021-09-11T21:01:05.296351Z",
     "start_time": "2021-09-11T21:01:05.292134Z"
    },
    "hidden": true
   },
   "outputs": [],
   "source": [
    "clf = Lasso(alpha=0.1)"
   ]
  },
  {
   "cell_type": "code",
   "execution_count": 32,
   "metadata": {
    "ExecuteTime": {
     "end_time": "2021-09-11T21:01:05.307818Z",
     "start_time": "2021-09-11T21:01:05.298951Z"
    },
    "hidden": true
   },
   "outputs": [
    {
     "data": {
      "text/plain": [
       "Lasso(alpha=0.1)"
      ]
     },
     "execution_count": 32,
     "metadata": {},
     "output_type": "execute_result"
    }
   ],
   "source": [
    "clf.fit(X_tr, y_tr)"
   ]
  },
  {
   "cell_type": "code",
   "execution_count": 33,
   "metadata": {
    "ExecuteTime": {
     "end_time": "2021-09-11T21:01:05.319075Z",
     "start_time": "2021-09-11T21:01:05.312047Z"
    },
    "hidden": true
   },
   "outputs": [
    {
     "data": {
      "text/plain": [
       "0.8862218248388181"
      ]
     },
     "execution_count": 33,
     "metadata": {},
     "output_type": "execute_result"
    }
   ],
   "source": [
    "mean_absolute_error(clf.predict(X_tr), y_tr)"
   ]
  },
  {
   "cell_type": "code",
   "execution_count": 34,
   "metadata": {
    "ExecuteTime": {
     "end_time": "2021-09-11T21:01:05.330409Z",
     "start_time": "2021-09-11T21:01:05.321760Z"
    },
    "hidden": true,
    "scrolled": true
   },
   "outputs": [
    {
     "data": {
      "text/plain": [
       "0.870507370579422"
      ]
     },
     "execution_count": 34,
     "metadata": {},
     "output_type": "execute_result"
    }
   ],
   "source": [
    "mean_absolute_error(clf.predict(X_te), y_te)"
   ]
  },
  {
   "cell_type": "code",
   "execution_count": 35,
   "metadata": {
    "ExecuteTime": {
     "end_time": "2021-09-11T21:01:05.345067Z",
     "start_time": "2021-09-11T21:01:05.335728Z"
    },
    "hidden": true
   },
   "outputs": [
    {
     "name": "stdout",
     "output_type": "stream",
     "text": [
      "Model coefficients:\n",
      "\n",
      "leg_fatigue = 0.1812\n",
      "total_fatigue = 0.023\n",
      "nsaids = 0.0\n",
      "colageno = 0.0\n",
      "knee_intensity_CF = 0.0342\n",
      "knee_intensity_CF_lag_1 = -0.0\n",
      "knee_intensity_CF_lag_2 = 0.014\n",
      "knee_intensity_CF_lag_3 = 0.0157\n",
      "knee_intensity_kite = 0.0082\n",
      "knee_intensity_kite_lag_1 = 0.0095\n",
      "knee_intensity_kite_lag_2 = 0.0\n",
      "knee_intensity_kite_lag_3 = -0.0\n",
      "knee_intensity_other = 0.0145\n",
      "knee_intensity_other_lag_1 = 0.0165\n",
      "knee_intensity_other_lag_2 = 0.0\n",
      "knee_intensity_other_lag_3 = 0.0\n"
     ]
    }
   ],
   "source": [
    "print(\"Model coefficients:\\n\")\n",
    "for i in range(X_tr.shape[1]):\n",
    "    print(X_tr.columns[i], \"=\", clf.coef_[i].round(4))"
   ]
  },
  {
   "cell_type": "markdown",
   "metadata": {
    "hidden": true
   },
   "source": [
    "### Decision tree"
   ]
  },
  {
   "cell_type": "code",
   "execution_count": 36,
   "metadata": {
    "ExecuteTime": {
     "end_time": "2021-09-11T21:01:05.361630Z",
     "start_time": "2021-09-11T21:01:05.348755Z"
    },
    "hidden": true
   },
   "outputs": [
    {
     "data": {
      "text/plain": [
       "DecisionTreeRegressor(criterion='mae', max_depth=3)"
      ]
     },
     "execution_count": 36,
     "metadata": {},
     "output_type": "execute_result"
    }
   ],
   "source": [
    "dt = DecisionTreeRegressor(max_depth=3, criterion=\"mae\")\n",
    "dt.fit(X_tr, y_tr)"
   ]
  },
  {
   "cell_type": "code",
   "execution_count": 37,
   "metadata": {
    "ExecuteTime": {
     "end_time": "2021-09-11T21:01:05.369767Z",
     "start_time": "2021-09-11T21:01:05.364150Z"
    },
    "hidden": true
   },
   "outputs": [
    {
     "name": "stdout",
     "output_type": "stream",
     "text": [
      "Decision Tree Results\n"
     ]
    }
   ],
   "source": [
    "print(\"Decision Tree Results\")"
   ]
  },
  {
   "cell_type": "code",
   "execution_count": 38,
   "metadata": {
    "ExecuteTime": {
     "end_time": "2021-09-11T21:01:05.384251Z",
     "start_time": "2021-09-11T21:01:05.375022Z"
    },
    "hidden": true
   },
   "outputs": [
    {
     "name": "stdout",
     "output_type": "stream",
     "text": [
      "Train  0.6891025641025641\n"
     ]
    }
   ],
   "source": [
    "print(\"Train \", mean_absolute_error(dt.predict(X_tr), y_tr))"
   ]
  },
  {
   "cell_type": "code",
   "execution_count": 39,
   "metadata": {
    "ExecuteTime": {
     "end_time": "2021-09-11T21:01:05.396175Z",
     "start_time": "2021-09-11T21:01:05.389752Z"
    },
    "hidden": true
   },
   "outputs": [
    {
     "name": "stdout",
     "output_type": "stream",
     "text": [
      "Test  0.7875\n"
     ]
    }
   ],
   "source": [
    "print(\"Test \", mean_absolute_error(dt.predict(X_te), y_te))"
   ]
  },
  {
   "cell_type": "code",
   "execution_count": 40,
   "metadata": {
    "ExecuteTime": {
     "end_time": "2021-09-11T21:01:06.186588Z",
     "start_time": "2021-09-11T21:01:05.398546Z"
    },
    "hidden": true
   },
   "outputs": [
    {
     "data": {
      "image/png": "[encoded data removed]",
      "text/plain": [
       "<Figure size 1152x576 with 1 Axes>"
      ]
     },
     "metadata": {},
     "output_type": "display_data"
    }
   ],
   "source": [
    "plt.figure()\n",
    "plt.tight_layout()\n",
    "plot_tree(dt, feature_names=X_te.columns, filled=True)\n",
    "plt.savefig(\"images/dt.svg\", format=\"svg\")\n",
    "plt.close()"
   ]
  },
  {
   "cell_type": "markdown",
   "metadata": {
    "hidden": true
   },
   "source": [
    "### Random Forest"
   ]
  },
  {
   "cell_type": "code",
   "execution_count": 41,
   "metadata": {
    "ExecuteTime": {
     "end_time": "2021-09-11T21:01:06.313064Z",
     "start_time": "2021-09-11T21:01:06.189774Z"
    },
    "hidden": true
   },
   "outputs": [
    {
     "data": {
      "text/plain": [
       "RandomForestRegressor(min_samples_leaf=3)"
      ]
     },
     "execution_count": 41,
     "metadata": {},
     "output_type": "execute_result"
    }
   ],
   "source": [
    "rf = RandomForestRegressor(min_samples_leaf=3)\n",
    "rf.fit(X_tr, y_tr)"
   ]
  },
  {
   "cell_type": "code",
   "execution_count": 42,
   "metadata": {
    "ExecuteTime": {
     "end_time": "2021-09-11T21:01:06.323792Z",
     "start_time": "2021-09-11T21:01:06.319482Z"
    },
    "hidden": true
   },
   "outputs": [
    {
     "name": "stdout",
     "output_type": "stream",
     "text": [
      "RF results\n"
     ]
    }
   ],
   "source": [
    "print(\"RF results\")"
   ]
  },
  {
   "cell_type": "code",
   "execution_count": 43,
   "metadata": {
    "ExecuteTime": {
     "end_time": "2021-09-11T21:01:06.349184Z",
     "start_time": "2021-09-11T21:01:06.328331Z"
    },
    "hidden": true
   },
   "outputs": [
    {
     "name": "stdout",
     "output_type": "stream",
     "text": [
      "Train 0.553071355816548\n"
     ]
    }
   ],
   "source": [
    "print(\"Train\", mean_absolute_error(rf.predict(X_tr), y_tr))"
   ]
  },
  {
   "cell_type": "code",
   "execution_count": 44,
   "metadata": {
    "ExecuteTime": {
     "end_time": "2021-09-11T21:01:06.368725Z",
     "start_time": "2021-09-11T21:01:06.351503Z"
    },
    "hidden": true
   },
   "outputs": [
    {
     "name": "stdout",
     "output_type": "stream",
     "text": [
      "Test 0.7711287785131535\n"
     ]
    }
   ],
   "source": [
    "print(\"Test\", mean_absolute_error(rf.predict(X_te), y_te))"
   ]
  },
  {
   "cell_type": "markdown",
   "metadata": {
    "hidden": true
   },
   "source": [
    "### Xgboost"
   ]
  },
  {
   "cell_type": "code",
   "execution_count": 45,
   "metadata": {
    "ExecuteTime": {
     "end_time": "2021-09-11T21:01:06.437290Z",
     "start_time": "2021-09-11T21:01:06.370382Z"
    },
    "hidden": true
   },
   "outputs": [
    {
     "name": "stdout",
     "output_type": "stream",
     "text": [
      "XGB Results\n",
      "Train  0.55660929893836\n"
     ]
    }
   ],
   "source": [
    "xgb = XGBRFRegressor().fit(X_tr, y_tr)\n",
    "print(\"XGB Results\")\n",
    "print(\"Train \", mean_absolute_error(xgb.predict(X_tr), y_tr))"
   ]
  },
  {
   "cell_type": "code",
   "execution_count": 46,
   "metadata": {
    "ExecuteTime": {
     "end_time": "2021-09-11T21:01:06.452885Z",
     "start_time": "2021-09-11T21:01:06.442815Z"
    },
    "hidden": true
   },
   "outputs": [
    {
     "name": "stdout",
     "output_type": "stream",
     "text": [
      "Test  0.8285478755831719\n"
     ]
    }
   ],
   "source": [
    "print(\"Test \", mean_absolute_error(xgb.predict(X_te), y_te))"
   ]
  },
  {
   "cell_type": "markdown",
   "metadata": {},
   "source": [
    "## Predict Next Day"
   ]
  },
  {
   "cell_type": "code",
   "execution_count": 47,
   "metadata": {
    "ExecuteTime": {
     "end_time": "2021-09-11T21:01:06.470129Z",
     "start_time": "2021-09-11T21:01:06.456001Z"
    }
   },
   "outputs": [],
   "source": [
    "df[\"pain_shift\"] = df.pain - df.pain.shift()\n",
    "df_lag = df.dropna().drop(columns=\"pain\")\n",
    "X_tr, X_te, y_tr, y_te = train_test_split(\n",
    "    df_lag.drop(columns=\"pain_shift\"), df_lag[[\"pain_shift\"]], test_size=0.2, random_state=42\n",
    ")"
   ]
  },
  {
   "cell_type": "markdown",
   "metadata": {},
   "source": [
    "### Dummy"
   ]
  },
  {
   "cell_type": "code",
   "execution_count": 48,
   "metadata": {
    "ExecuteTime": {
     "end_time": "2021-09-11T21:01:06.481141Z",
     "start_time": "2021-09-11T21:01:06.472658Z"
    }
   },
   "outputs": [
    {
     "data": {
      "text/plain": [
       "0.7490138067061144"
      ]
     },
     "execution_count": 48,
     "metadata": {},
     "output_type": "execute_result"
    }
   ],
   "source": [
    "mean_absolute_error(np.zeros_like(y_tr) + np.mean(y_tr).values, y_tr)"
   ]
  },
  {
   "cell_type": "code",
   "execution_count": 49,
   "metadata": {
    "ExecuteTime": {
     "end_time": "2021-09-11T21:01:06.492986Z",
     "start_time": "2021-09-11T21:01:06.483556Z"
    }
   },
   "outputs": [
    {
     "data": {
      "text/plain": [
       "0.5325443786982248"
      ]
     },
     "execution_count": 49,
     "metadata": {},
     "output_type": "execute_result"
    }
   ],
   "source": [
    "mean_absolute_error(np.zeros_like(y_te) + np.mean(y_te).values, y_te)"
   ]
  },
  {
   "cell_type": "markdown",
   "metadata": {},
   "source": [
    "### Lasso"
   ]
  },
  {
   "cell_type": "code",
   "execution_count": 50,
   "metadata": {
    "ExecuteTime": {
     "end_time": "2021-09-11T21:01:06.499497Z",
     "start_time": "2021-09-11T21:01:06.496048Z"
    }
   },
   "outputs": [],
   "source": [
    "clf = Lasso(alpha=0.1)"
   ]
  },
  {
   "cell_type": "code",
   "execution_count": 51,
   "metadata": {
    "ExecuteTime": {
     "end_time": "2021-09-11T21:01:06.512515Z",
     "start_time": "2021-09-11T21:01:06.502325Z"
    }
   },
   "outputs": [
    {
     "data": {
      "text/plain": [
       "Lasso(alpha=0.1)"
      ]
     },
     "execution_count": 51,
     "metadata": {},
     "output_type": "execute_result"
    }
   ],
   "source": [
    "clf.fit(X_tr, y_tr)"
   ]
  },
  {
   "cell_type": "code",
   "execution_count": 52,
   "metadata": {
    "ExecuteTime": {
     "end_time": "2021-09-11T21:01:06.524767Z",
     "start_time": "2021-09-11T21:01:06.515110Z"
    }
   },
   "outputs": [
    {
     "data": {
      "text/plain": [
       "0.7710583362396796"
      ]
     },
     "execution_count": 52,
     "metadata": {},
     "output_type": "execute_result"
    }
   ],
   "source": [
    "mean_absolute_error(clf.predict(X_tr), y_tr)"
   ]
  },
  {
   "cell_type": "code",
   "execution_count": 53,
   "metadata": {
    "ExecuteTime": {
     "end_time": "2021-09-11T21:01:06.535378Z",
     "start_time": "2021-09-11T21:01:06.527351Z"
    },
    "scrolled": true
   },
   "outputs": [
    {
     "data": {
      "text/plain": [
       "0.5758381477402222"
      ]
     },
     "execution_count": 53,
     "metadata": {},
     "output_type": "execute_result"
    }
   ],
   "source": [
    "mean_absolute_error(clf.predict(X_te), y_te)"
   ]
  },
  {
   "cell_type": "code",
   "execution_count": 54,
   "metadata": {
    "ExecuteTime": {
     "end_time": "2021-09-11T21:01:06.545723Z",
     "start_time": "2021-09-11T21:01:06.537592Z"
    }
   },
   "outputs": [
    {
     "name": "stdout",
     "output_type": "stream",
     "text": [
      "Model coefficients:\n",
      "\n",
      "leg_fatigue = 0.0\n",
      "total_fatigue = -0.0\n",
      "nsaids = 0.0\n",
      "colageno = 0.0\n",
      "knee_intensity_CF = 0.0852\n",
      "knee_intensity_CF_lag_1 = -0.0\n",
      "knee_intensity_CF_lag_2 = 0.0156\n",
      "knee_intensity_CF_lag_3 = -0.0031\n",
      "knee_intensity_kite = 0.0\n",
      "knee_intensity_kite_lag_1 = -0.0109\n",
      "knee_intensity_kite_lag_2 = -0.0\n",
      "knee_intensity_kite_lag_3 = -0.0114\n",
      "knee_intensity_other = 0.0\n",
      "knee_intensity_other_lag_1 = -0.0\n",
      "knee_intensity_other_lag_2 = -0.0\n",
      "knee_intensity_other_lag_3 = -0.0\n"
     ]
    }
   ],
   "source": [
    "print(\"Model coefficients:\\n\")\n",
    "for i in range(X_tr.shape[1]):\n",
    "    print(X_tr.columns[i], \"=\", clf.coef_[i].round(4))"
   ]
  },
  {
   "cell_type": "markdown",
   "metadata": {},
   "source": [
    "### Decision tree"
   ]
  },
  {
   "cell_type": "code",
   "execution_count": 55,
   "metadata": {
    "ExecuteTime": {
     "end_time": "2021-09-11T21:01:06.559747Z",
     "start_time": "2021-09-11T21:01:06.548370Z"
    }
   },
   "outputs": [
    {
     "data": {
      "text/plain": [
       "DecisionTreeRegressor(criterion='mae', max_depth=3, min_samples_leaf=2)"
      ]
     },
     "execution_count": 55,
     "metadata": {},
     "output_type": "execute_result"
    }
   ],
   "source": [
    "dt = DecisionTreeRegressor(max_depth=3, min_samples_leaf=2, criterion=\"mae\")\n",
    "dt.fit(X_tr, y_tr)"
   ]
  },
  {
   "cell_type": "code",
   "execution_count": 56,
   "metadata": {
    "ExecuteTime": {
     "end_time": "2021-09-11T21:01:06.572064Z",
     "start_time": "2021-09-11T21:01:06.562686Z"
    }
   },
   "outputs": [
    {
     "name": "stdout",
     "output_type": "stream",
     "text": [
      "Decision Tree Results\n"
     ]
    }
   ],
   "source": [
    "print(\"Decision Tree Results\")"
   ]
  },
  {
   "cell_type": "code",
   "execution_count": 57,
   "metadata": {
    "ExecuteTime": {
     "end_time": "2021-09-11T21:01:06.591536Z",
     "start_time": "2021-09-11T21:01:06.576946Z"
    }
   },
   "outputs": [
    {
     "name": "stdout",
     "output_type": "stream",
     "text": [
      "Train  0.6506410256410257\n"
     ]
    }
   ],
   "source": [
    "print(\"Train \", mean_absolute_error(dt.predict(X_tr), y_tr))"
   ]
  },
  {
   "cell_type": "code",
   "execution_count": 58,
   "metadata": {
    "ExecuteTime": {
     "end_time": "2021-09-11T21:01:06.609857Z",
     "start_time": "2021-09-11T21:01:06.602570Z"
    }
   },
   "outputs": [
    {
     "name": "stdout",
     "output_type": "stream",
     "text": [
      "Test  0.5256410256410257\n"
     ]
    }
   ],
   "source": [
    "print(\"Test \", mean_absolute_error(dt.predict(X_te), y_te))"
   ]
  },
  {
   "cell_type": "code",
   "execution_count": 59,
   "metadata": {
    "ExecuteTime": {
     "end_time": "2021-09-11T21:01:07.811083Z",
     "start_time": "2021-09-11T21:01:06.617196Z"
    }
   },
   "outputs": [
    {
     "data": {
      "image/png": "[encoded data removed]",
      "text/plain": [
       "<Figure size 1152x576 with 1 Axes>"
      ]
     },
     "metadata": {},
     "output_type": "display_data"
    }
   ],
   "source": [
    "plt.figure()\n",
    "plot_tree(dt, feature_names=X_te.columns, filled=True)\n",
    "plt.savefig(\"images/dt_shift.svg\", format=\"svg\")\n",
    "plt.close()"
   ]
  },
  {
   "cell_type": "markdown",
   "metadata": {},
   "source": [
    "### Random Forest"
   ]
  },
  {
   "cell_type": "code",
   "execution_count": 60,
   "metadata": {
    "ExecuteTime": {
     "end_time": "2021-09-11T21:01:07.939650Z",
     "start_time": "2021-09-11T21:01:07.815393Z"
    }
   },
   "outputs": [
    {
     "data": {
      "text/plain": [
       "RandomForestRegressor(min_samples_leaf=3)"
      ]
     },
     "execution_count": 60,
     "metadata": {},
     "output_type": "execute_result"
    }
   ],
   "source": [
    "rf = RandomForestRegressor(min_samples_leaf=3)\n",
    "rf.fit(X_tr, y_tr)"
   ]
  },
  {
   "cell_type": "code",
   "execution_count": 61,
   "metadata": {
    "ExecuteTime": {
     "end_time": "2021-09-11T21:01:07.949071Z",
     "start_time": "2021-09-11T21:01:07.942779Z"
    }
   },
   "outputs": [
    {
     "name": "stdout",
     "output_type": "stream",
     "text": [
      "RF results\n"
     ]
    }
   ],
   "source": [
    "print(\"RF results\")"
   ]
  },
  {
   "cell_type": "code",
   "execution_count": 62,
   "metadata": {
    "ExecuteTime": {
     "end_time": "2021-09-11T21:01:07.969261Z",
     "start_time": "2021-09-11T21:01:07.951165Z"
    }
   },
   "outputs": [
    {
     "name": "stdout",
     "output_type": "stream",
     "text": [
      "Train 0.5178219406651251\n"
     ]
    }
   ],
   "source": [
    "print(\"Train\", mean_absolute_error(rf.predict(X_tr), y_tr))"
   ]
  },
  {
   "cell_type": "code",
   "execution_count": 63,
   "metadata": {
    "ExecuteTime": {
     "end_time": "2021-09-11T21:01:07.990918Z",
     "start_time": "2021-09-11T21:01:07.972817Z"
    }
   },
   "outputs": [
    {
     "name": "stdout",
     "output_type": "stream",
     "text": [
      "Test 0.5618809222451756\n"
     ]
    }
   ],
   "source": [
    "print(\"Test\", mean_absolute_error(rf.predict(X_te), y_te))"
   ]
  },
  {
   "cell_type": "markdown",
   "metadata": {},
   "source": [
    "### Xgboost"
   ]
  },
  {
   "cell_type": "code",
   "execution_count": 68,
   "metadata": {
    "ExecuteTime": {
     "end_time": "2021-09-11T21:01:08.078431Z",
     "start_time": "2021-09-11T21:01:07.997031Z"
    }
   },
   "outputs": [
    {
     "name": "stdout",
     "output_type": "stream",
     "text": [
      "XGB Results\n",
      "Train  0.5449324736789781\n"
     ]
    }
   ],
   "source": [
    "X = df.drop(columns=[\"pain\", \"pain_shift\"])\n",
    "y = df[[\"pain\"]]\n",
    "xgb = XGBRFRegressor().fit(X, y)\n",
    "print(\"XGB Results\")\n",
    "print(\"Train \", mean_absolute_error(xgb.predict(X), y))"
   ]
  },
  {
   "cell_type": "code",
   "execution_count": 69,
   "metadata": {
    "ExecuteTime": {
     "end_time": "2021-09-11T21:01:08.551170Z",
     "start_time": "2021-09-11T21:01:08.100677Z"
    }
   },
   "outputs": [],
   "source": [
    "explainer = shap.Explainer(xgb)\n",
    "shap_values = explainer(X)"
   ]
  },
  {
   "cell_type": "code",
   "execution_count": 70,
   "metadata": {
    "ExecuteTime": {
     "end_time": "2021-09-11T21:01:09.464716Z",
     "start_time": "2021-09-11T21:01:08.558784Z"
    }
   },
   "outputs": [
    {
     "data": {
      "image/png": "[encoded data removed]",
      "text/plain": [
       "<Figure size 576x568.8 with 2 Axes>"
      ]
     },
     "metadata": {},
     "output_type": "display_data"
    }
   ],
   "source": [
    "shap.summary_plot(shap_values, X, show=False)\n",
    "plt.tight_layout()\n",
    "plt.savefig(\"images/summary_shap.png\")\n",
    "plt.close()"
   ]
  },
  {
   "cell_type": "code",
   "execution_count": 71,
   "metadata": {
    "ExecuteTime": {
     "end_time": "2021-09-11T21:01:09.872621Z",
     "start_time": "2021-09-11T21:01:09.498512Z"
    }
   },
   "outputs": [
    {
     "data": {
      "image/png": "[encoded data removed]",
      "text/plain": [
       "<Figure size 576x468 with 1 Axes>"
      ]
     },
     "metadata": {},
     "output_type": "display_data"
    }
   ],
   "source": [
    "shap.plots.bar(shap_values, show=False)\n",
    "plt.tight_layout()\n",
    "plt.savefig(\"images/global_shap.png\")\n",
    "plt.close()"
   ]
  },
  {
   "cell_type": "code",
   "execution_count": null,
   "metadata": {},
   "outputs": [],
   "source": []
  }
 ],
 "metadata": {
  "kernelspec": {
   "display_name": "knee",
   "language": "python",
   "name": "knee"
  },
  "language_info": {
   "codemirror_mode": {
    "name": "ipython",
    "version": 3
   },
   "file_extension": ".py",
   "mimetype": "text/x-python",
   "name": "python",
   "nbconvert_exporter": "python",
   "pygments_lexer": "ipython3",
   "version": "3.9.2"
  }
 },
 "nbformat": 4,
 "nbformat_minor": 4
}
